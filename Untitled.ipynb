{
 "cells": [
  {
   "cell_type": "markdown",
   "id": "ec70756d-8b83-4eab-81d8-cc9c5fbd3495",
   "metadata": {},
   "source": [
    "# Import Packages"
   ]
  },
  {
   "cell_type": "code",
   "execution_count": 1,
   "id": "35b276fd-356e-4df0-8a1b-c21addb28619",
   "metadata": {
    "tags": []
   },
   "outputs": [],
   "source": [
    "import numpy as np\n",
    "import pandas as pd\n",
    "import matplotlib.pyplot as plt\n",
    "import seaborn as sns"
   ]
  },
  {
   "cell_type": "markdown",
   "id": "c1fbf0be-1a1b-4dfb-82f9-41bea6d21398",
   "metadata": {},
   "source": [
    "# Read In Data "
   ]
  },
  {
   "cell_type": "code",
   "execution_count": 2,
   "id": "2eba6fc1-1d72-4f7b-bdb2-fce7dcff17d9",
   "metadata": {
    "tags": []
   },
   "outputs": [],
   "source": [
    "df = pd.read_csv('MTA_Daily_Ridership_Data__2020_-_2025_20250407.csv')"
   ]
  },
  {
   "cell_type": "markdown",
   "id": "22e19a84-1fa8-4dfa-95c5-b5ce5951f946",
   "metadata": {},
   "source": [
    "# Take a Look at The Data"
   ]
  },
  {
   "cell_type": "code",
   "execution_count": 3,
   "id": "f3a50dff-5d3c-427b-8a5c-d7b06e4866ac",
   "metadata": {
    "tags": []
   },
   "outputs": [
    {
     "data": {
      "text/html": [
       "<div>\n",
       "<style scoped>\n",
       "    .dataframe tbody tr th:only-of-type {\n",
       "        vertical-align: middle;\n",
       "    }\n",
       "\n",
       "    .dataframe tbody tr th {\n",
       "        vertical-align: top;\n",
       "    }\n",
       "\n",
       "    .dataframe thead th {\n",
       "        text-align: right;\n",
       "    }\n",
       "</style>\n",
       "<table border=\"1\" class=\"dataframe\">\n",
       "  <thead>\n",
       "    <tr style=\"text-align: right;\">\n",
       "      <th></th>\n",
       "      <th>Date</th>\n",
       "      <th>Subways: Total Estimated Ridership</th>\n",
       "      <th>Subways: % of Comparable Pre-Pandemic Day</th>\n",
       "      <th>Buses: Total Estimated Ridership</th>\n",
       "      <th>Buses: % of Comparable Pre-Pandemic Day</th>\n",
       "      <th>LIRR: Total Estimated Ridership</th>\n",
       "      <th>LIRR: % of Comparable Pre-Pandemic Day</th>\n",
       "      <th>Metro-North: Total Estimated Ridership</th>\n",
       "      <th>Metro-North: % of Comparable Pre-Pandemic Day</th>\n",
       "      <th>Access-A-Ride: Total Scheduled Trips</th>\n",
       "      <th>Access-A-Ride: % of Comparable Pre-Pandemic Day</th>\n",
       "      <th>Bridges and Tunnels: Total Traffic</th>\n",
       "      <th>Bridges and Tunnels: % of Comparable Pre-Pandemic Day</th>\n",
       "      <th>Staten Island Railway: Total Estimated Ridership</th>\n",
       "      <th>Staten Island Railway: % of Comparable Pre-Pandemic Day</th>\n",
       "    </tr>\n",
       "  </thead>\n",
       "  <tbody>\n",
       "    <tr>\n",
       "      <th>0</th>\n",
       "      <td>03/01/2020</td>\n",
       "      <td>2212965</td>\n",
       "      <td>0.97</td>\n",
       "      <td>984908</td>\n",
       "      <td>0.99</td>\n",
       "      <td>86790</td>\n",
       "      <td>1.00</td>\n",
       "      <td>55825</td>\n",
       "      <td>0.59</td>\n",
       "      <td>19922</td>\n",
       "      <td>1.13</td>\n",
       "      <td>786960</td>\n",
       "      <td>0.98</td>\n",
       "      <td>1636</td>\n",
       "      <td>0.52</td>\n",
       "    </tr>\n",
       "    <tr>\n",
       "      <th>1</th>\n",
       "      <td>03/02/2020</td>\n",
       "      <td>5329915</td>\n",
       "      <td>0.96</td>\n",
       "      <td>2209066</td>\n",
       "      <td>0.99</td>\n",
       "      <td>321569</td>\n",
       "      <td>1.03</td>\n",
       "      <td>180701</td>\n",
       "      <td>0.66</td>\n",
       "      <td>30338</td>\n",
       "      <td>1.02</td>\n",
       "      <td>874619</td>\n",
       "      <td>0.95</td>\n",
       "      <td>17140</td>\n",
       "      <td>1.07</td>\n",
       "    </tr>\n",
       "    <tr>\n",
       "      <th>2</th>\n",
       "      <td>03/03/2020</td>\n",
       "      <td>5481103</td>\n",
       "      <td>0.98</td>\n",
       "      <td>2228608</td>\n",
       "      <td>0.99</td>\n",
       "      <td>319727</td>\n",
       "      <td>1.02</td>\n",
       "      <td>190648</td>\n",
       "      <td>0.69</td>\n",
       "      <td>32767</td>\n",
       "      <td>1.10</td>\n",
       "      <td>882175</td>\n",
       "      <td>0.96</td>\n",
       "      <td>17453</td>\n",
       "      <td>1.09</td>\n",
       "    </tr>\n",
       "    <tr>\n",
       "      <th>3</th>\n",
       "      <td>03/04/2020</td>\n",
       "      <td>5498809</td>\n",
       "      <td>0.99</td>\n",
       "      <td>2177165</td>\n",
       "      <td>0.97</td>\n",
       "      <td>311662</td>\n",
       "      <td>0.99</td>\n",
       "      <td>192689</td>\n",
       "      <td>0.70</td>\n",
       "      <td>34297</td>\n",
       "      <td>1.15</td>\n",
       "      <td>905558</td>\n",
       "      <td>0.98</td>\n",
       "      <td>17136</td>\n",
       "      <td>1.07</td>\n",
       "    </tr>\n",
       "    <tr>\n",
       "      <th>4</th>\n",
       "      <td>03/05/2020</td>\n",
       "      <td>5496453</td>\n",
       "      <td>0.99</td>\n",
       "      <td>2244515</td>\n",
       "      <td>1.00</td>\n",
       "      <td>307597</td>\n",
       "      <td>0.98</td>\n",
       "      <td>194386</td>\n",
       "      <td>0.70</td>\n",
       "      <td>33209</td>\n",
       "      <td>1.12</td>\n",
       "      <td>929298</td>\n",
       "      <td>1.01</td>\n",
       "      <td>17203</td>\n",
       "      <td>1.08</td>\n",
       "    </tr>\n",
       "  </tbody>\n",
       "</table>\n",
       "</div>"
      ],
      "text/plain": [
       "         Date  Subways: Total Estimated Ridership  \\\n",
       "0  03/01/2020                             2212965   \n",
       "1  03/02/2020                             5329915   \n",
       "2  03/03/2020                             5481103   \n",
       "3  03/04/2020                             5498809   \n",
       "4  03/05/2020                             5496453   \n",
       "\n",
       "   Subways: % of Comparable Pre-Pandemic Day  \\\n",
       "0                                       0.97   \n",
       "1                                       0.96   \n",
       "2                                       0.98   \n",
       "3                                       0.99   \n",
       "4                                       0.99   \n",
       "\n",
       "   Buses: Total Estimated Ridership  Buses: % of Comparable Pre-Pandemic Day  \\\n",
       "0                            984908                                     0.99   \n",
       "1                           2209066                                     0.99   \n",
       "2                           2228608                                     0.99   \n",
       "3                           2177165                                     0.97   \n",
       "4                           2244515                                     1.00   \n",
       "\n",
       "   LIRR: Total Estimated Ridership  LIRR: % of Comparable Pre-Pandemic Day  \\\n",
       "0                            86790                                    1.00   \n",
       "1                           321569                                    1.03   \n",
       "2                           319727                                    1.02   \n",
       "3                           311662                                    0.99   \n",
       "4                           307597                                    0.98   \n",
       "\n",
       "   Metro-North: Total Estimated Ridership  \\\n",
       "0                                   55825   \n",
       "1                                  180701   \n",
       "2                                  190648   \n",
       "3                                  192689   \n",
       "4                                  194386   \n",
       "\n",
       "   Metro-North: % of Comparable Pre-Pandemic Day  \\\n",
       "0                                           0.59   \n",
       "1                                           0.66   \n",
       "2                                           0.69   \n",
       "3                                           0.70   \n",
       "4                                           0.70   \n",
       "\n",
       "   Access-A-Ride: Total Scheduled Trips  \\\n",
       "0                                 19922   \n",
       "1                                 30338   \n",
       "2                                 32767   \n",
       "3                                 34297   \n",
       "4                                 33209   \n",
       "\n",
       "   Access-A-Ride: % of Comparable Pre-Pandemic Day  \\\n",
       "0                                             1.13   \n",
       "1                                             1.02   \n",
       "2                                             1.10   \n",
       "3                                             1.15   \n",
       "4                                             1.12   \n",
       "\n",
       "   Bridges and Tunnels: Total Traffic  \\\n",
       "0                              786960   \n",
       "1                              874619   \n",
       "2                              882175   \n",
       "3                              905558   \n",
       "4                              929298   \n",
       "\n",
       "   Bridges and Tunnels: % of Comparable Pre-Pandemic Day  \\\n",
       "0                                               0.98       \n",
       "1                                               0.95       \n",
       "2                                               0.96       \n",
       "3                                               0.98       \n",
       "4                                               1.01       \n",
       "\n",
       "   Staten Island Railway: Total Estimated Ridership  \\\n",
       "0                                              1636   \n",
       "1                                             17140   \n",
       "2                                             17453   \n",
       "3                                             17136   \n",
       "4                                             17203   \n",
       "\n",
       "   Staten Island Railway: % of Comparable Pre-Pandemic Day  \n",
       "0                                               0.52        \n",
       "1                                               1.07        \n",
       "2                                               1.09        \n",
       "3                                               1.07        \n",
       "4                                               1.08        "
      ]
     },
     "execution_count": 3,
     "metadata": {},
     "output_type": "execute_result"
    }
   ],
   "source": [
    "df.head()"
   ]
  },
  {
   "cell_type": "code",
   "execution_count": 4,
   "id": "dccdc353-d7e3-412b-904c-147aca48109d",
   "metadata": {
    "tags": []
   },
   "outputs": [
    {
     "data": {
      "text/html": [
       "<div>\n",
       "<style scoped>\n",
       "    .dataframe tbody tr th:only-of-type {\n",
       "        vertical-align: middle;\n",
       "    }\n",
       "\n",
       "    .dataframe tbody tr th {\n",
       "        vertical-align: top;\n",
       "    }\n",
       "\n",
       "    .dataframe thead th {\n",
       "        text-align: right;\n",
       "    }\n",
       "</style>\n",
       "<table border=\"1\" class=\"dataframe\">\n",
       "  <thead>\n",
       "    <tr style=\"text-align: right;\">\n",
       "      <th></th>\n",
       "      <th>Date</th>\n",
       "      <th>Subways: Total Estimated Ridership</th>\n",
       "      <th>Subways: % of Comparable Pre-Pandemic Day</th>\n",
       "      <th>Buses: Total Estimated Ridership</th>\n",
       "      <th>Buses: % of Comparable Pre-Pandemic Day</th>\n",
       "      <th>LIRR: Total Estimated Ridership</th>\n",
       "      <th>LIRR: % of Comparable Pre-Pandemic Day</th>\n",
       "      <th>Metro-North: Total Estimated Ridership</th>\n",
       "      <th>Metro-North: % of Comparable Pre-Pandemic Day</th>\n",
       "      <th>Access-A-Ride: Total Scheduled Trips</th>\n",
       "      <th>Access-A-Ride: % of Comparable Pre-Pandemic Day</th>\n",
       "      <th>Bridges and Tunnels: Total Traffic</th>\n",
       "      <th>Bridges and Tunnels: % of Comparable Pre-Pandemic Day</th>\n",
       "      <th>Staten Island Railway: Total Estimated Ridership</th>\n",
       "      <th>Staten Island Railway: % of Comparable Pre-Pandemic Day</th>\n",
       "    </tr>\n",
       "  </thead>\n",
       "  <tbody>\n",
       "    <tr>\n",
       "      <th>1771</th>\n",
       "      <td>01/05/2025</td>\n",
       "      <td>1791020</td>\n",
       "      <td>0.86</td>\n",
       "      <td>618750</td>\n",
       "      <td>0.67</td>\n",
       "      <td>96683</td>\n",
       "      <td>1.17</td>\n",
       "      <td>79761</td>\n",
       "      <td>0.88</td>\n",
       "      <td>23665</td>\n",
       "      <td>1.75</td>\n",
       "      <td>726411</td>\n",
       "      <td>1.06</td>\n",
       "      <td>2039</td>\n",
       "      <td>0.74</td>\n",
       "    </tr>\n",
       "    <tr>\n",
       "      <th>1772</th>\n",
       "      <td>01/06/2025</td>\n",
       "      <td>3436491</td>\n",
       "      <td>0.67</td>\n",
       "      <td>1238969</td>\n",
       "      <td>0.61</td>\n",
       "      <td>229503</td>\n",
       "      <td>0.76</td>\n",
       "      <td>202575</td>\n",
       "      <td>0.75</td>\n",
       "      <td>35840</td>\n",
       "      <td>1.27</td>\n",
       "      <td>792617</td>\n",
       "      <td>0.91</td>\n",
       "      <td>6887</td>\n",
       "      <td>0.42</td>\n",
       "    </tr>\n",
       "    <tr>\n",
       "      <th>1773</th>\n",
       "      <td>01/07/2025</td>\n",
       "      <td>3781536</td>\n",
       "      <td>0.74</td>\n",
       "      <td>1275936</td>\n",
       "      <td>0.62</td>\n",
       "      <td>245930</td>\n",
       "      <td>0.81</td>\n",
       "      <td>220945</td>\n",
       "      <td>0.82</td>\n",
       "      <td>38048</td>\n",
       "      <td>1.34</td>\n",
       "      <td>842968</td>\n",
       "      <td>0.97</td>\n",
       "      <td>7409</td>\n",
       "      <td>0.45</td>\n",
       "    </tr>\n",
       "    <tr>\n",
       "      <th>1774</th>\n",
       "      <td>01/08/2025</td>\n",
       "      <td>3830616</td>\n",
       "      <td>0.74</td>\n",
       "      <td>1256260</td>\n",
       "      <td>0.61</td>\n",
       "      <td>239444</td>\n",
       "      <td>0.79</td>\n",
       "      <td>209550</td>\n",
       "      <td>0.78</td>\n",
       "      <td>39406</td>\n",
       "      <td>1.39</td>\n",
       "      <td>852748</td>\n",
       "      <td>0.98</td>\n",
       "      <td>7798</td>\n",
       "      <td>0.48</td>\n",
       "    </tr>\n",
       "    <tr>\n",
       "      <th>1775</th>\n",
       "      <td>01/09/2025</td>\n",
       "      <td>3734383</td>\n",
       "      <td>0.73</td>\n",
       "      <td>787710</td>\n",
       "      <td>0.38</td>\n",
       "      <td>229804</td>\n",
       "      <td>0.76</td>\n",
       "      <td>198894</td>\n",
       "      <td>0.74</td>\n",
       "      <td>38431</td>\n",
       "      <td>1.36</td>\n",
       "      <td>869256</td>\n",
       "      <td>1.00</td>\n",
       "      <td>6841</td>\n",
       "      <td>0.42</td>\n",
       "    </tr>\n",
       "  </tbody>\n",
       "</table>\n",
       "</div>"
      ],
      "text/plain": [
       "            Date  Subways: Total Estimated Ridership  \\\n",
       "1771  01/05/2025                             1791020   \n",
       "1772  01/06/2025                             3436491   \n",
       "1773  01/07/2025                             3781536   \n",
       "1774  01/08/2025                             3830616   \n",
       "1775  01/09/2025                             3734383   \n",
       "\n",
       "      Subways: % of Comparable Pre-Pandemic Day  \\\n",
       "1771                                       0.86   \n",
       "1772                                       0.67   \n",
       "1773                                       0.74   \n",
       "1774                                       0.74   \n",
       "1775                                       0.73   \n",
       "\n",
       "      Buses: Total Estimated Ridership  \\\n",
       "1771                            618750   \n",
       "1772                           1238969   \n",
       "1773                           1275936   \n",
       "1774                           1256260   \n",
       "1775                            787710   \n",
       "\n",
       "      Buses: % of Comparable Pre-Pandemic Day  \\\n",
       "1771                                     0.67   \n",
       "1772                                     0.61   \n",
       "1773                                     0.62   \n",
       "1774                                     0.61   \n",
       "1775                                     0.38   \n",
       "\n",
       "      LIRR: Total Estimated Ridership  LIRR: % of Comparable Pre-Pandemic Day  \\\n",
       "1771                            96683                                    1.17   \n",
       "1772                           229503                                    0.76   \n",
       "1773                           245930                                    0.81   \n",
       "1774                           239444                                    0.79   \n",
       "1775                           229804                                    0.76   \n",
       "\n",
       "      Metro-North: Total Estimated Ridership  \\\n",
       "1771                                   79761   \n",
       "1772                                  202575   \n",
       "1773                                  220945   \n",
       "1774                                  209550   \n",
       "1775                                  198894   \n",
       "\n",
       "      Metro-North: % of Comparable Pre-Pandemic Day  \\\n",
       "1771                                           0.88   \n",
       "1772                                           0.75   \n",
       "1773                                           0.82   \n",
       "1774                                           0.78   \n",
       "1775                                           0.74   \n",
       "\n",
       "      Access-A-Ride: Total Scheduled Trips  \\\n",
       "1771                                 23665   \n",
       "1772                                 35840   \n",
       "1773                                 38048   \n",
       "1774                                 39406   \n",
       "1775                                 38431   \n",
       "\n",
       "      Access-A-Ride: % of Comparable Pre-Pandemic Day  \\\n",
       "1771                                             1.75   \n",
       "1772                                             1.27   \n",
       "1773                                             1.34   \n",
       "1774                                             1.39   \n",
       "1775                                             1.36   \n",
       "\n",
       "      Bridges and Tunnels: Total Traffic  \\\n",
       "1771                              726411   \n",
       "1772                              792617   \n",
       "1773                              842968   \n",
       "1774                              852748   \n",
       "1775                              869256   \n",
       "\n",
       "      Bridges and Tunnels: % of Comparable Pre-Pandemic Day  \\\n",
       "1771                                               1.06       \n",
       "1772                                               0.91       \n",
       "1773                                               0.97       \n",
       "1774                                               0.98       \n",
       "1775                                               1.00       \n",
       "\n",
       "      Staten Island Railway: Total Estimated Ridership  \\\n",
       "1771                                              2039   \n",
       "1772                                              6887   \n",
       "1773                                              7409   \n",
       "1774                                              7798   \n",
       "1775                                              6841   \n",
       "\n",
       "      Staten Island Railway: % of Comparable Pre-Pandemic Day  \n",
       "1771                                               0.74        \n",
       "1772                                               0.42        \n",
       "1773                                               0.45        \n",
       "1774                                               0.48        \n",
       "1775                                               0.42        "
      ]
     },
     "execution_count": 4,
     "metadata": {},
     "output_type": "execute_result"
    }
   ],
   "source": [
    "df.tail()"
   ]
  },
  {
   "cell_type": "code",
   "execution_count": 5,
   "id": "b329d49d-f9cc-4c6a-93b2-885917a1a8bd",
   "metadata": {
    "tags": []
   },
   "outputs": [
    {
     "data": {
      "text/plain": [
       "(1776, 15)"
      ]
     },
     "execution_count": 5,
     "metadata": {},
     "output_type": "execute_result"
    }
   ],
   "source": [
    "df.shape"
   ]
  },
  {
   "cell_type": "markdown",
   "id": "0509323b-60cc-404c-9d3b-dbb71ccfe4ba",
   "metadata": {},
   "source": [
    "> This dataset contains 15 columns and 1,776 rows."
   ]
  },
  {
   "cell_type": "code",
   "execution_count": 6,
   "id": "99724499-2b5e-471c-959b-c97e352823c9",
   "metadata": {
    "tags": []
   },
   "outputs": [
    {
     "data": {
      "text/plain": [
       "Date                                                        object\n",
       "Subways: Total Estimated Ridership                           int64\n",
       "Subways: % of Comparable Pre-Pandemic Day                  float64\n",
       "Buses: Total Estimated Ridership                             int64\n",
       "Buses: % of Comparable Pre-Pandemic Day                    float64\n",
       "LIRR: Total Estimated Ridership                              int64\n",
       "LIRR: % of Comparable Pre-Pandemic Day                     float64\n",
       "Metro-North: Total Estimated Ridership                       int64\n",
       "Metro-North: % of Comparable Pre-Pandemic Day              float64\n",
       "Access-A-Ride: Total Scheduled Trips                         int64\n",
       "Access-A-Ride: % of Comparable Pre-Pandemic Day            float64\n",
       "Bridges and Tunnels: Total Traffic                           int64\n",
       "Bridges and Tunnels: % of Comparable Pre-Pandemic Day      float64\n",
       "Staten Island Railway: Total Estimated Ridership             int64\n",
       "Staten Island Railway: % of Comparable Pre-Pandemic Day    float64\n",
       "dtype: object"
      ]
     },
     "execution_count": 6,
     "metadata": {},
     "output_type": "execute_result"
    }
   ],
   "source": [
    "df.dtypes"
   ]
  },
  {
   "cell_type": "code",
   "execution_count": 7,
   "id": "37ee320e-2f7c-44d8-97b9-586bdbd27149",
   "metadata": {
    "tags": []
   },
   "outputs": [
    {
     "data": {
      "text/plain": [
       "Date                                                       0\n",
       "Subways: Total Estimated Ridership                         0\n",
       "Subways: % of Comparable Pre-Pandemic Day                  0\n",
       "Buses: Total Estimated Ridership                           0\n",
       "Buses: % of Comparable Pre-Pandemic Day                    0\n",
       "LIRR: Total Estimated Ridership                            0\n",
       "LIRR: % of Comparable Pre-Pandemic Day                     0\n",
       "Metro-North: Total Estimated Ridership                     0\n",
       "Metro-North: % of Comparable Pre-Pandemic Day              0\n",
       "Access-A-Ride: Total Scheduled Trips                       0\n",
       "Access-A-Ride: % of Comparable Pre-Pandemic Day            0\n",
       "Bridges and Tunnels: Total Traffic                         0\n",
       "Bridges and Tunnels: % of Comparable Pre-Pandemic Day      0\n",
       "Staten Island Railway: Total Estimated Ridership           0\n",
       "Staten Island Railway: % of Comparable Pre-Pandemic Day    0\n",
       "dtype: int64"
      ]
     },
     "execution_count": 7,
     "metadata": {},
     "output_type": "execute_result"
    }
   ],
   "source": [
    "df.isnull().sum()"
   ]
  },
  {
   "cell_type": "code",
   "execution_count": 8,
   "id": "a8320036-4e62-4f73-95ec-5518dd6dddd5",
   "metadata": {
    "tags": []
   },
   "outputs": [
    {
     "data": {
      "text/html": [
       "<div>\n",
       "<style scoped>\n",
       "    .dataframe tbody tr th:only-of-type {\n",
       "        vertical-align: middle;\n",
       "    }\n",
       "\n",
       "    .dataframe tbody tr th {\n",
       "        vertical-align: top;\n",
       "    }\n",
       "\n",
       "    .dataframe thead th {\n",
       "        text-align: right;\n",
       "    }\n",
       "</style>\n",
       "<table border=\"1\" class=\"dataframe\">\n",
       "  <thead>\n",
       "    <tr style=\"text-align: right;\">\n",
       "      <th></th>\n",
       "      <th>Subways: Total Estimated Ridership</th>\n",
       "      <th>Subways: % of Comparable Pre-Pandemic Day</th>\n",
       "      <th>Buses: Total Estimated Ridership</th>\n",
       "      <th>Buses: % of Comparable Pre-Pandemic Day</th>\n",
       "      <th>LIRR: Total Estimated Ridership</th>\n",
       "      <th>LIRR: % of Comparable Pre-Pandemic Day</th>\n",
       "      <th>Metro-North: Total Estimated Ridership</th>\n",
       "      <th>Metro-North: % of Comparable Pre-Pandemic Day</th>\n",
       "      <th>Access-A-Ride: Total Scheduled Trips</th>\n",
       "      <th>Access-A-Ride: % of Comparable Pre-Pandemic Day</th>\n",
       "      <th>Bridges and Tunnels: Total Traffic</th>\n",
       "      <th>Bridges and Tunnels: % of Comparable Pre-Pandemic Day</th>\n",
       "      <th>Staten Island Railway: Total Estimated Ridership</th>\n",
       "      <th>Staten Island Railway: % of Comparable Pre-Pandemic Day</th>\n",
       "    </tr>\n",
       "  </thead>\n",
       "  <tbody>\n",
       "    <tr>\n",
       "      <th>count</th>\n",
       "      <td>1.776000e+03</td>\n",
       "      <td>1776.000000</td>\n",
       "      <td>1.776000e+03</td>\n",
       "      <td>1776.000000</td>\n",
       "      <td>1776.000000</td>\n",
       "      <td>1776.000000</td>\n",
       "      <td>1776.000000</td>\n",
       "      <td>1776.000000</td>\n",
       "      <td>1776.000000</td>\n",
       "      <td>1776.000000</td>\n",
       "      <td>1.776000e+03</td>\n",
       "      <td>1776.000000</td>\n",
       "      <td>1776.000000</td>\n",
       "      <td>1776.000000</td>\n",
       "    </tr>\n",
       "    <tr>\n",
       "      <th>mean</th>\n",
       "      <td>2.541830e+06</td>\n",
       "      <td>0.563615</td>\n",
       "      <td>1.011409e+06</td>\n",
       "      <td>0.551644</td>\n",
       "      <td>138783.668919</td>\n",
       "      <td>0.607432</td>\n",
       "      <td>117522.400338</td>\n",
       "      <td>0.525631</td>\n",
       "      <td>22349.481982</td>\n",
       "      <td>0.878846</td>\n",
       "      <td>8.572596e+05</td>\n",
       "      <td>0.937297</td>\n",
       "      <td>4491.962838</td>\n",
       "      <td>0.387934</td>\n",
       "    </tr>\n",
       "    <tr>\n",
       "      <th>std</th>\n",
       "      <td>1.067641e+06</td>\n",
       "      <td>0.201075</td>\n",
       "      <td>4.369798e+05</td>\n",
       "      <td>0.191883</td>\n",
       "      <td>72243.727072</td>\n",
       "      <td>0.308112</td>\n",
       "      <td>67232.358363</td>\n",
       "      <td>0.272096</td>\n",
       "      <td>8232.384206</td>\n",
       "      <td>0.257712</td>\n",
       "      <td>1.412100e+05</td>\n",
       "      <td>0.144921</td>\n",
       "      <td>2700.110378</td>\n",
       "      <td>0.202076</td>\n",
       "    </tr>\n",
       "    <tr>\n",
       "      <th>min</th>\n",
       "      <td>1.983990e+05</td>\n",
       "      <td>0.070000</td>\n",
       "      <td>5.498000e+03</td>\n",
       "      <td>0.010000</td>\n",
       "      <td>1903.000000</td>\n",
       "      <td>0.020000</td>\n",
       "      <td>3281.000000</td>\n",
       "      <td>0.030000</td>\n",
       "      <td>2506.000000</td>\n",
       "      <td>0.130000</td>\n",
       "      <td>1.567590e+05</td>\n",
       "      <td>0.180000</td>\n",
       "      <td>0.000000</td>\n",
       "      <td>0.000000</td>\n",
       "    </tr>\n",
       "    <tr>\n",
       "      <th>25%</th>\n",
       "      <td>1.735692e+06</td>\n",
       "      <td>0.420000</td>\n",
       "      <td>7.186188e+05</td>\n",
       "      <td>0.530000</td>\n",
       "      <td>80255.750000</td>\n",
       "      <td>0.377500</td>\n",
       "      <td>53755.000000</td>\n",
       "      <td>0.310000</td>\n",
       "      <td>16250.000000</td>\n",
       "      <td>0.720000</td>\n",
       "      <td>8.139142e+05</td>\n",
       "      <td>0.910000</td>\n",
       "      <td>2121.500000</td>\n",
       "      <td>0.260000</td>\n",
       "    </tr>\n",
       "    <tr>\n",
       "      <th>50%</th>\n",
       "      <td>2.505354e+06</td>\n",
       "      <td>0.610000</td>\n",
       "      <td>1.143659e+06</td>\n",
       "      <td>0.600000</td>\n",
       "      <td>127684.500000</td>\n",
       "      <td>0.620000</td>\n",
       "      <td>111431.000000</td>\n",
       "      <td>0.575000</td>\n",
       "      <td>22462.000000</td>\n",
       "      <td>0.850000</td>\n",
       "      <td>8.972120e+05</td>\n",
       "      <td>0.980000</td>\n",
       "      <td>4568.500000</td>\n",
       "      <td>0.400000</td>\n",
       "    </tr>\n",
       "    <tr>\n",
       "      <th>75%</th>\n",
       "      <td>3.476191e+06</td>\n",
       "      <td>0.700000</td>\n",
       "      <td>1.350378e+06</td>\n",
       "      <td>0.650000</td>\n",
       "      <td>201384.750000</td>\n",
       "      <td>0.770000</td>\n",
       "      <td>180373.250000</td>\n",
       "      <td>0.720000</td>\n",
       "      <td>28125.000000</td>\n",
       "      <td>1.060000</td>\n",
       "      <td>9.472925e+05</td>\n",
       "      <td>1.020000</td>\n",
       "      <td>6845.500000</td>\n",
       "      <td>0.470000</td>\n",
       "    </tr>\n",
       "    <tr>\n",
       "      <th>max</th>\n",
       "      <td>5.498809e+06</td>\n",
       "      <td>1.430000</td>\n",
       "      <td>2.244515e+06</td>\n",
       "      <td>1.260000</td>\n",
       "      <td>321569.000000</td>\n",
       "      <td>2.570000</td>\n",
       "      <td>249585.000000</td>\n",
       "      <td>2.110000</td>\n",
       "      <td>41858.000000</td>\n",
       "      <td>1.770000</td>\n",
       "      <td>1.043802e+06</td>\n",
       "      <td>1.200000</td>\n",
       "      <td>17453.000000</td>\n",
       "      <td>1.820000</td>\n",
       "    </tr>\n",
       "  </tbody>\n",
       "</table>\n",
       "</div>"
      ],
      "text/plain": [
       "       Subways: Total Estimated Ridership  \\\n",
       "count                        1.776000e+03   \n",
       "mean                         2.541830e+06   \n",
       "std                          1.067641e+06   \n",
       "min                          1.983990e+05   \n",
       "25%                          1.735692e+06   \n",
       "50%                          2.505354e+06   \n",
       "75%                          3.476191e+06   \n",
       "max                          5.498809e+06   \n",
       "\n",
       "       Subways: % of Comparable Pre-Pandemic Day  \\\n",
       "count                                1776.000000   \n",
       "mean                                    0.563615   \n",
       "std                                     0.201075   \n",
       "min                                     0.070000   \n",
       "25%                                     0.420000   \n",
       "50%                                     0.610000   \n",
       "75%                                     0.700000   \n",
       "max                                     1.430000   \n",
       "\n",
       "       Buses: Total Estimated Ridership  \\\n",
       "count                      1.776000e+03   \n",
       "mean                       1.011409e+06   \n",
       "std                        4.369798e+05   \n",
       "min                        5.498000e+03   \n",
       "25%                        7.186188e+05   \n",
       "50%                        1.143659e+06   \n",
       "75%                        1.350378e+06   \n",
       "max                        2.244515e+06   \n",
       "\n",
       "       Buses: % of Comparable Pre-Pandemic Day  \\\n",
       "count                              1776.000000   \n",
       "mean                                  0.551644   \n",
       "std                                   0.191883   \n",
       "min                                   0.010000   \n",
       "25%                                   0.530000   \n",
       "50%                                   0.600000   \n",
       "75%                                   0.650000   \n",
       "max                                   1.260000   \n",
       "\n",
       "       LIRR: Total Estimated Ridership  \\\n",
       "count                      1776.000000   \n",
       "mean                     138783.668919   \n",
       "std                       72243.727072   \n",
       "min                        1903.000000   \n",
       "25%                       80255.750000   \n",
       "50%                      127684.500000   \n",
       "75%                      201384.750000   \n",
       "max                      321569.000000   \n",
       "\n",
       "       LIRR: % of Comparable Pre-Pandemic Day  \\\n",
       "count                             1776.000000   \n",
       "mean                                 0.607432   \n",
       "std                                  0.308112   \n",
       "min                                  0.020000   \n",
       "25%                                  0.377500   \n",
       "50%                                  0.620000   \n",
       "75%                                  0.770000   \n",
       "max                                  2.570000   \n",
       "\n",
       "       Metro-North: Total Estimated Ridership  \\\n",
       "count                             1776.000000   \n",
       "mean                            117522.400338   \n",
       "std                              67232.358363   \n",
       "min                               3281.000000   \n",
       "25%                              53755.000000   \n",
       "50%                             111431.000000   \n",
       "75%                             180373.250000   \n",
       "max                             249585.000000   \n",
       "\n",
       "       Metro-North: % of Comparable Pre-Pandemic Day  \\\n",
       "count                                    1776.000000   \n",
       "mean                                        0.525631   \n",
       "std                                         0.272096   \n",
       "min                                         0.030000   \n",
       "25%                                         0.310000   \n",
       "50%                                         0.575000   \n",
       "75%                                         0.720000   \n",
       "max                                         2.110000   \n",
       "\n",
       "       Access-A-Ride: Total Scheduled Trips  \\\n",
       "count                           1776.000000   \n",
       "mean                           22349.481982   \n",
       "std                             8232.384206   \n",
       "min                             2506.000000   \n",
       "25%                            16250.000000   \n",
       "50%                            22462.000000   \n",
       "75%                            28125.000000   \n",
       "max                            41858.000000   \n",
       "\n",
       "       Access-A-Ride: % of Comparable Pre-Pandemic Day  \\\n",
       "count                                      1776.000000   \n",
       "mean                                          0.878846   \n",
       "std                                           0.257712   \n",
       "min                                           0.130000   \n",
       "25%                                           0.720000   \n",
       "50%                                           0.850000   \n",
       "75%                                           1.060000   \n",
       "max                                           1.770000   \n",
       "\n",
       "       Bridges and Tunnels: Total Traffic  \\\n",
       "count                        1.776000e+03   \n",
       "mean                         8.572596e+05   \n",
       "std                          1.412100e+05   \n",
       "min                          1.567590e+05   \n",
       "25%                          8.139142e+05   \n",
       "50%                          8.972120e+05   \n",
       "75%                          9.472925e+05   \n",
       "max                          1.043802e+06   \n",
       "\n",
       "       Bridges and Tunnels: % of Comparable Pre-Pandemic Day  \\\n",
       "count                                        1776.000000       \n",
       "mean                                            0.937297       \n",
       "std                                             0.144921       \n",
       "min                                             0.180000       \n",
       "25%                                             0.910000       \n",
       "50%                                             0.980000       \n",
       "75%                                             1.020000       \n",
       "max                                             1.200000       \n",
       "\n",
       "       Staten Island Railway: Total Estimated Ridership  \\\n",
       "count                                       1776.000000   \n",
       "mean                                        4491.962838   \n",
       "std                                         2700.110378   \n",
       "min                                            0.000000   \n",
       "25%                                         2121.500000   \n",
       "50%                                         4568.500000   \n",
       "75%                                         6845.500000   \n",
       "max                                        17453.000000   \n",
       "\n",
       "       Staten Island Railway: % of Comparable Pre-Pandemic Day  \n",
       "count                                        1776.000000        \n",
       "mean                                            0.387934        \n",
       "std                                             0.202076        \n",
       "min                                             0.000000        \n",
       "25%                                             0.260000        \n",
       "50%                                             0.400000        \n",
       "75%                                             0.470000        \n",
       "max                                             1.820000        "
      ]
     },
     "execution_count": 8,
     "metadata": {},
     "output_type": "execute_result"
    }
   ],
   "source": [
    "df.describe()"
   ]
  },
  {
   "cell_type": "code",
   "execution_count": 9,
   "id": "266ae637-ec9f-4204-9266-cf0a404578b6",
   "metadata": {
    "tags": []
   },
   "outputs": [
    {
     "name": "stdout",
     "output_type": "stream",
     "text": [
      "<class 'pandas.core.frame.DataFrame'>\n",
      "RangeIndex: 1776 entries, 0 to 1775\n",
      "Data columns (total 15 columns):\n",
      " #   Column                                                   Non-Null Count  Dtype  \n",
      "---  ------                                                   --------------  -----  \n",
      " 0   Date                                                     1776 non-null   object \n",
      " 1   Subways: Total Estimated Ridership                       1776 non-null   int64  \n",
      " 2   Subways: % of Comparable Pre-Pandemic Day                1776 non-null   float64\n",
      " 3   Buses: Total Estimated Ridership                         1776 non-null   int64  \n",
      " 4   Buses: % of Comparable Pre-Pandemic Day                  1776 non-null   float64\n",
      " 5   LIRR: Total Estimated Ridership                          1776 non-null   int64  \n",
      " 6   LIRR: % of Comparable Pre-Pandemic Day                   1776 non-null   float64\n",
      " 7   Metro-North: Total Estimated Ridership                   1776 non-null   int64  \n",
      " 8   Metro-North: % of Comparable Pre-Pandemic Day            1776 non-null   float64\n",
      " 9   Access-A-Ride: Total Scheduled Trips                     1776 non-null   int64  \n",
      " 10  Access-A-Ride: % of Comparable Pre-Pandemic Day          1776 non-null   float64\n",
      " 11  Bridges and Tunnels: Total Traffic                       1776 non-null   int64  \n",
      " 12  Bridges and Tunnels: % of Comparable Pre-Pandemic Day    1776 non-null   float64\n",
      " 13  Staten Island Railway: Total Estimated Ridership         1776 non-null   int64  \n",
      " 14  Staten Island Railway: % of Comparable Pre-Pandemic Day  1776 non-null   float64\n",
      "dtypes: float64(7), int64(7), object(1)\n",
      "memory usage: 208.3+ KB\n"
     ]
    }
   ],
   "source": [
    "df.info()"
   ]
  },
  {
   "cell_type": "markdown",
   "id": "960e0b28-1349-4f2b-a1ae-a15cfa6cc839",
   "metadata": {},
   "source": [
    "# Feature Engineering"
   ]
  },
  {
   "cell_type": "code",
   "execution_count": 10,
   "id": "4e688a8c-d112-47e0-a355-b46b17495473",
   "metadata": {
    "tags": []
   },
   "outputs": [],
   "source": [
    "# Lets add a column for day of week, month and year"
   ]
  },
  {
   "cell_type": "code",
   "execution_count": 11,
   "id": "9e41950f-1678-4531-98e0-dceb2570dc6b",
   "metadata": {
    "tags": []
   },
   "outputs": [],
   "source": [
    "# Convert the 'date' column to datetime format\n",
    "df['Date'] = pd.to_datetime(df['Date'])"
   ]
  },
  {
   "cell_type": "code",
   "execution_count": 12,
   "id": "89befb49-efab-47cd-af7e-de8f277ae66b",
   "metadata": {
    "tags": []
   },
   "outputs": [],
   "source": [
    "# Extract the day of the week\n",
    "df['Day of Week'] = df['Date'].dt.day_name()"
   ]
  },
  {
   "cell_type": "code",
   "execution_count": 13,
   "id": "6c7351e0-5001-4466-b706-af4d3d3981e4",
   "metadata": {
    "tags": []
   },
   "outputs": [
    {
     "data": {
      "text/html": [
       "<div>\n",
       "<style scoped>\n",
       "    .dataframe tbody tr th:only-of-type {\n",
       "        vertical-align: middle;\n",
       "    }\n",
       "\n",
       "    .dataframe tbody tr th {\n",
       "        vertical-align: top;\n",
       "    }\n",
       "\n",
       "    .dataframe thead th {\n",
       "        text-align: right;\n",
       "    }\n",
       "</style>\n",
       "<table border=\"1\" class=\"dataframe\">\n",
       "  <thead>\n",
       "    <tr style=\"text-align: right;\">\n",
       "      <th></th>\n",
       "      <th>Date</th>\n",
       "      <th>Subways: Total Estimated Ridership</th>\n",
       "      <th>Subways: % of Comparable Pre-Pandemic Day</th>\n",
       "      <th>Buses: Total Estimated Ridership</th>\n",
       "      <th>Buses: % of Comparable Pre-Pandemic Day</th>\n",
       "      <th>LIRR: Total Estimated Ridership</th>\n",
       "      <th>LIRR: % of Comparable Pre-Pandemic Day</th>\n",
       "      <th>Metro-North: Total Estimated Ridership</th>\n",
       "      <th>Metro-North: % of Comparable Pre-Pandemic Day</th>\n",
       "      <th>Access-A-Ride: Total Scheduled Trips</th>\n",
       "      <th>Access-A-Ride: % of Comparable Pre-Pandemic Day</th>\n",
       "      <th>Bridges and Tunnels: Total Traffic</th>\n",
       "      <th>Bridges and Tunnels: % of Comparable Pre-Pandemic Day</th>\n",
       "      <th>Staten Island Railway: Total Estimated Ridership</th>\n",
       "      <th>Staten Island Railway: % of Comparable Pre-Pandemic Day</th>\n",
       "      <th>Day of Week</th>\n",
       "    </tr>\n",
       "  </thead>\n",
       "  <tbody>\n",
       "    <tr>\n",
       "      <th>0</th>\n",
       "      <td>2020-03-01</td>\n",
       "      <td>2212965</td>\n",
       "      <td>0.97</td>\n",
       "      <td>984908</td>\n",
       "      <td>0.99</td>\n",
       "      <td>86790</td>\n",
       "      <td>1.00</td>\n",
       "      <td>55825</td>\n",
       "      <td>0.59</td>\n",
       "      <td>19922</td>\n",
       "      <td>1.13</td>\n",
       "      <td>786960</td>\n",
       "      <td>0.98</td>\n",
       "      <td>1636</td>\n",
       "      <td>0.52</td>\n",
       "      <td>Sunday</td>\n",
       "    </tr>\n",
       "    <tr>\n",
       "      <th>1</th>\n",
       "      <td>2020-03-02</td>\n",
       "      <td>5329915</td>\n",
       "      <td>0.96</td>\n",
       "      <td>2209066</td>\n",
       "      <td>0.99</td>\n",
       "      <td>321569</td>\n",
       "      <td>1.03</td>\n",
       "      <td>180701</td>\n",
       "      <td>0.66</td>\n",
       "      <td>30338</td>\n",
       "      <td>1.02</td>\n",
       "      <td>874619</td>\n",
       "      <td>0.95</td>\n",
       "      <td>17140</td>\n",
       "      <td>1.07</td>\n",
       "      <td>Monday</td>\n",
       "    </tr>\n",
       "    <tr>\n",
       "      <th>2</th>\n",
       "      <td>2020-03-03</td>\n",
       "      <td>5481103</td>\n",
       "      <td>0.98</td>\n",
       "      <td>2228608</td>\n",
       "      <td>0.99</td>\n",
       "      <td>319727</td>\n",
       "      <td>1.02</td>\n",
       "      <td>190648</td>\n",
       "      <td>0.69</td>\n",
       "      <td>32767</td>\n",
       "      <td>1.10</td>\n",
       "      <td>882175</td>\n",
       "      <td>0.96</td>\n",
       "      <td>17453</td>\n",
       "      <td>1.09</td>\n",
       "      <td>Tuesday</td>\n",
       "    </tr>\n",
       "    <tr>\n",
       "      <th>3</th>\n",
       "      <td>2020-03-04</td>\n",
       "      <td>5498809</td>\n",
       "      <td>0.99</td>\n",
       "      <td>2177165</td>\n",
       "      <td>0.97</td>\n",
       "      <td>311662</td>\n",
       "      <td>0.99</td>\n",
       "      <td>192689</td>\n",
       "      <td>0.70</td>\n",
       "      <td>34297</td>\n",
       "      <td>1.15</td>\n",
       "      <td>905558</td>\n",
       "      <td>0.98</td>\n",
       "      <td>17136</td>\n",
       "      <td>1.07</td>\n",
       "      <td>Wednesday</td>\n",
       "    </tr>\n",
       "    <tr>\n",
       "      <th>4</th>\n",
       "      <td>2020-03-05</td>\n",
       "      <td>5496453</td>\n",
       "      <td>0.99</td>\n",
       "      <td>2244515</td>\n",
       "      <td>1.00</td>\n",
       "      <td>307597</td>\n",
       "      <td>0.98</td>\n",
       "      <td>194386</td>\n",
       "      <td>0.70</td>\n",
       "      <td>33209</td>\n",
       "      <td>1.12</td>\n",
       "      <td>929298</td>\n",
       "      <td>1.01</td>\n",
       "      <td>17203</td>\n",
       "      <td>1.08</td>\n",
       "      <td>Thursday</td>\n",
       "    </tr>\n",
       "  </tbody>\n",
       "</table>\n",
       "</div>"
      ],
      "text/plain": [
       "        Date  Subways: Total Estimated Ridership  \\\n",
       "0 2020-03-01                             2212965   \n",
       "1 2020-03-02                             5329915   \n",
       "2 2020-03-03                             5481103   \n",
       "3 2020-03-04                             5498809   \n",
       "4 2020-03-05                             5496453   \n",
       "\n",
       "   Subways: % of Comparable Pre-Pandemic Day  \\\n",
       "0                                       0.97   \n",
       "1                                       0.96   \n",
       "2                                       0.98   \n",
       "3                                       0.99   \n",
       "4                                       0.99   \n",
       "\n",
       "   Buses: Total Estimated Ridership  Buses: % of Comparable Pre-Pandemic Day  \\\n",
       "0                            984908                                     0.99   \n",
       "1                           2209066                                     0.99   \n",
       "2                           2228608                                     0.99   \n",
       "3                           2177165                                     0.97   \n",
       "4                           2244515                                     1.00   \n",
       "\n",
       "   LIRR: Total Estimated Ridership  LIRR: % of Comparable Pre-Pandemic Day  \\\n",
       "0                            86790                                    1.00   \n",
       "1                           321569                                    1.03   \n",
       "2                           319727                                    1.02   \n",
       "3                           311662                                    0.99   \n",
       "4                           307597                                    0.98   \n",
       "\n",
       "   Metro-North: Total Estimated Ridership  \\\n",
       "0                                   55825   \n",
       "1                                  180701   \n",
       "2                                  190648   \n",
       "3                                  192689   \n",
       "4                                  194386   \n",
       "\n",
       "   Metro-North: % of Comparable Pre-Pandemic Day  \\\n",
       "0                                           0.59   \n",
       "1                                           0.66   \n",
       "2                                           0.69   \n",
       "3                                           0.70   \n",
       "4                                           0.70   \n",
       "\n",
       "   Access-A-Ride: Total Scheduled Trips  \\\n",
       "0                                 19922   \n",
       "1                                 30338   \n",
       "2                                 32767   \n",
       "3                                 34297   \n",
       "4                                 33209   \n",
       "\n",
       "   Access-A-Ride: % of Comparable Pre-Pandemic Day  \\\n",
       "0                                             1.13   \n",
       "1                                             1.02   \n",
       "2                                             1.10   \n",
       "3                                             1.15   \n",
       "4                                             1.12   \n",
       "\n",
       "   Bridges and Tunnels: Total Traffic  \\\n",
       "0                              786960   \n",
       "1                              874619   \n",
       "2                              882175   \n",
       "3                              905558   \n",
       "4                              929298   \n",
       "\n",
       "   Bridges and Tunnels: % of Comparable Pre-Pandemic Day  \\\n",
       "0                                               0.98       \n",
       "1                                               0.95       \n",
       "2                                               0.96       \n",
       "3                                               0.98       \n",
       "4                                               1.01       \n",
       "\n",
       "   Staten Island Railway: Total Estimated Ridership  \\\n",
       "0                                              1636   \n",
       "1                                             17140   \n",
       "2                                             17453   \n",
       "3                                             17136   \n",
       "4                                             17203   \n",
       "\n",
       "   Staten Island Railway: % of Comparable Pre-Pandemic Day Day of Week  \n",
       "0                                               0.52            Sunday  \n",
       "1                                               1.07            Monday  \n",
       "2                                               1.09           Tuesday  \n",
       "3                                               1.07         Wednesday  \n",
       "4                                               1.08          Thursday  "
      ]
     },
     "execution_count": 13,
     "metadata": {},
     "output_type": "execute_result"
    }
   ],
   "source": [
    "df.head()"
   ]
  },
  {
   "cell_type": "code",
   "execution_count": 14,
   "id": "c15693b6-58de-49ea-bab4-20e2fbbb5479",
   "metadata": {
    "tags": []
   },
   "outputs": [],
   "source": [
    "# Extract the month\n",
    "df['Month'] = df['Date'].dt.month_name()"
   ]
  },
  {
   "cell_type": "code",
   "execution_count": 15,
   "id": "7412967d-5caf-48f8-b50b-c001a16ba4ee",
   "metadata": {
    "tags": []
   },
   "outputs": [
    {
     "data": {
      "text/html": [
       "<div>\n",
       "<style scoped>\n",
       "    .dataframe tbody tr th:only-of-type {\n",
       "        vertical-align: middle;\n",
       "    }\n",
       "\n",
       "    .dataframe tbody tr th {\n",
       "        vertical-align: top;\n",
       "    }\n",
       "\n",
       "    .dataframe thead th {\n",
       "        text-align: right;\n",
       "    }\n",
       "</style>\n",
       "<table border=\"1\" class=\"dataframe\">\n",
       "  <thead>\n",
       "    <tr style=\"text-align: right;\">\n",
       "      <th></th>\n",
       "      <th>Date</th>\n",
       "      <th>Subways: Total Estimated Ridership</th>\n",
       "      <th>Subways: % of Comparable Pre-Pandemic Day</th>\n",
       "      <th>Buses: Total Estimated Ridership</th>\n",
       "      <th>Buses: % of Comparable Pre-Pandemic Day</th>\n",
       "      <th>LIRR: Total Estimated Ridership</th>\n",
       "      <th>LIRR: % of Comparable Pre-Pandemic Day</th>\n",
       "      <th>Metro-North: Total Estimated Ridership</th>\n",
       "      <th>Metro-North: % of Comparable Pre-Pandemic Day</th>\n",
       "      <th>Access-A-Ride: Total Scheduled Trips</th>\n",
       "      <th>Access-A-Ride: % of Comparable Pre-Pandemic Day</th>\n",
       "      <th>Bridges and Tunnels: Total Traffic</th>\n",
       "      <th>Bridges and Tunnels: % of Comparable Pre-Pandemic Day</th>\n",
       "      <th>Staten Island Railway: Total Estimated Ridership</th>\n",
       "      <th>Staten Island Railway: % of Comparable Pre-Pandemic Day</th>\n",
       "      <th>Day of Week</th>\n",
       "      <th>Month</th>\n",
       "    </tr>\n",
       "  </thead>\n",
       "  <tbody>\n",
       "    <tr>\n",
       "      <th>0</th>\n",
       "      <td>2020-03-01</td>\n",
       "      <td>2212965</td>\n",
       "      <td>0.97</td>\n",
       "      <td>984908</td>\n",
       "      <td>0.99</td>\n",
       "      <td>86790</td>\n",
       "      <td>1.00</td>\n",
       "      <td>55825</td>\n",
       "      <td>0.59</td>\n",
       "      <td>19922</td>\n",
       "      <td>1.13</td>\n",
       "      <td>786960</td>\n",
       "      <td>0.98</td>\n",
       "      <td>1636</td>\n",
       "      <td>0.52</td>\n",
       "      <td>Sunday</td>\n",
       "      <td>March</td>\n",
       "    </tr>\n",
       "    <tr>\n",
       "      <th>1</th>\n",
       "      <td>2020-03-02</td>\n",
       "      <td>5329915</td>\n",
       "      <td>0.96</td>\n",
       "      <td>2209066</td>\n",
       "      <td>0.99</td>\n",
       "      <td>321569</td>\n",
       "      <td>1.03</td>\n",
       "      <td>180701</td>\n",
       "      <td>0.66</td>\n",
       "      <td>30338</td>\n",
       "      <td>1.02</td>\n",
       "      <td>874619</td>\n",
       "      <td>0.95</td>\n",
       "      <td>17140</td>\n",
       "      <td>1.07</td>\n",
       "      <td>Monday</td>\n",
       "      <td>March</td>\n",
       "    </tr>\n",
       "    <tr>\n",
       "      <th>2</th>\n",
       "      <td>2020-03-03</td>\n",
       "      <td>5481103</td>\n",
       "      <td>0.98</td>\n",
       "      <td>2228608</td>\n",
       "      <td>0.99</td>\n",
       "      <td>319727</td>\n",
       "      <td>1.02</td>\n",
       "      <td>190648</td>\n",
       "      <td>0.69</td>\n",
       "      <td>32767</td>\n",
       "      <td>1.10</td>\n",
       "      <td>882175</td>\n",
       "      <td>0.96</td>\n",
       "      <td>17453</td>\n",
       "      <td>1.09</td>\n",
       "      <td>Tuesday</td>\n",
       "      <td>March</td>\n",
       "    </tr>\n",
       "    <tr>\n",
       "      <th>3</th>\n",
       "      <td>2020-03-04</td>\n",
       "      <td>5498809</td>\n",
       "      <td>0.99</td>\n",
       "      <td>2177165</td>\n",
       "      <td>0.97</td>\n",
       "      <td>311662</td>\n",
       "      <td>0.99</td>\n",
       "      <td>192689</td>\n",
       "      <td>0.70</td>\n",
       "      <td>34297</td>\n",
       "      <td>1.15</td>\n",
       "      <td>905558</td>\n",
       "      <td>0.98</td>\n",
       "      <td>17136</td>\n",
       "      <td>1.07</td>\n",
       "      <td>Wednesday</td>\n",
       "      <td>March</td>\n",
       "    </tr>\n",
       "    <tr>\n",
       "      <th>4</th>\n",
       "      <td>2020-03-05</td>\n",
       "      <td>5496453</td>\n",
       "      <td>0.99</td>\n",
       "      <td>2244515</td>\n",
       "      <td>1.00</td>\n",
       "      <td>307597</td>\n",
       "      <td>0.98</td>\n",
       "      <td>194386</td>\n",
       "      <td>0.70</td>\n",
       "      <td>33209</td>\n",
       "      <td>1.12</td>\n",
       "      <td>929298</td>\n",
       "      <td>1.01</td>\n",
       "      <td>17203</td>\n",
       "      <td>1.08</td>\n",
       "      <td>Thursday</td>\n",
       "      <td>March</td>\n",
       "    </tr>\n",
       "  </tbody>\n",
       "</table>\n",
       "</div>"
      ],
      "text/plain": [
       "        Date  Subways: Total Estimated Ridership  \\\n",
       "0 2020-03-01                             2212965   \n",
       "1 2020-03-02                             5329915   \n",
       "2 2020-03-03                             5481103   \n",
       "3 2020-03-04                             5498809   \n",
       "4 2020-03-05                             5496453   \n",
       "\n",
       "   Subways: % of Comparable Pre-Pandemic Day  \\\n",
       "0                                       0.97   \n",
       "1                                       0.96   \n",
       "2                                       0.98   \n",
       "3                                       0.99   \n",
       "4                                       0.99   \n",
       "\n",
       "   Buses: Total Estimated Ridership  Buses: % of Comparable Pre-Pandemic Day  \\\n",
       "0                            984908                                     0.99   \n",
       "1                           2209066                                     0.99   \n",
       "2                           2228608                                     0.99   \n",
       "3                           2177165                                     0.97   \n",
       "4                           2244515                                     1.00   \n",
       "\n",
       "   LIRR: Total Estimated Ridership  LIRR: % of Comparable Pre-Pandemic Day  \\\n",
       "0                            86790                                    1.00   \n",
       "1                           321569                                    1.03   \n",
       "2                           319727                                    1.02   \n",
       "3                           311662                                    0.99   \n",
       "4                           307597                                    0.98   \n",
       "\n",
       "   Metro-North: Total Estimated Ridership  \\\n",
       "0                                   55825   \n",
       "1                                  180701   \n",
       "2                                  190648   \n",
       "3                                  192689   \n",
       "4                                  194386   \n",
       "\n",
       "   Metro-North: % of Comparable Pre-Pandemic Day  \\\n",
       "0                                           0.59   \n",
       "1                                           0.66   \n",
       "2                                           0.69   \n",
       "3                                           0.70   \n",
       "4                                           0.70   \n",
       "\n",
       "   Access-A-Ride: Total Scheduled Trips  \\\n",
       "0                                 19922   \n",
       "1                                 30338   \n",
       "2                                 32767   \n",
       "3                                 34297   \n",
       "4                                 33209   \n",
       "\n",
       "   Access-A-Ride: % of Comparable Pre-Pandemic Day  \\\n",
       "0                                             1.13   \n",
       "1                                             1.02   \n",
       "2                                             1.10   \n",
       "3                                             1.15   \n",
       "4                                             1.12   \n",
       "\n",
       "   Bridges and Tunnels: Total Traffic  \\\n",
       "0                              786960   \n",
       "1                              874619   \n",
       "2                              882175   \n",
       "3                              905558   \n",
       "4                              929298   \n",
       "\n",
       "   Bridges and Tunnels: % of Comparable Pre-Pandemic Day  \\\n",
       "0                                               0.98       \n",
       "1                                               0.95       \n",
       "2                                               0.96       \n",
       "3                                               0.98       \n",
       "4                                               1.01       \n",
       "\n",
       "   Staten Island Railway: Total Estimated Ridership  \\\n",
       "0                                              1636   \n",
       "1                                             17140   \n",
       "2                                             17453   \n",
       "3                                             17136   \n",
       "4                                             17203   \n",
       "\n",
       "   Staten Island Railway: % of Comparable Pre-Pandemic Day Day of Week  Month  \n",
       "0                                               0.52            Sunday  March  \n",
       "1                                               1.07            Monday  March  \n",
       "2                                               1.09           Tuesday  March  \n",
       "3                                               1.07         Wednesday  March  \n",
       "4                                               1.08          Thursday  March  "
      ]
     },
     "execution_count": 15,
     "metadata": {},
     "output_type": "execute_result"
    }
   ],
   "source": [
    "df.head()"
   ]
  },
  {
   "cell_type": "code",
   "execution_count": 16,
   "id": "d42f1fd2-cf2e-4298-8f40-71dca3b5e27f",
   "metadata": {
    "tags": []
   },
   "outputs": [],
   "source": [
    "# Extract the year\n",
    "df['Year'] = df['Date'].dt.year"
   ]
  },
  {
   "cell_type": "code",
   "execution_count": 17,
   "id": "e921211e-37ed-4df9-b691-10b91f029716",
   "metadata": {
    "tags": []
   },
   "outputs": [
    {
     "data": {
      "text/html": [
       "<div>\n",
       "<style scoped>\n",
       "    .dataframe tbody tr th:only-of-type {\n",
       "        vertical-align: middle;\n",
       "    }\n",
       "\n",
       "    .dataframe tbody tr th {\n",
       "        vertical-align: top;\n",
       "    }\n",
       "\n",
       "    .dataframe thead th {\n",
       "        text-align: right;\n",
       "    }\n",
       "</style>\n",
       "<table border=\"1\" class=\"dataframe\">\n",
       "  <thead>\n",
       "    <tr style=\"text-align: right;\">\n",
       "      <th></th>\n",
       "      <th>Date</th>\n",
       "      <th>Subways: Total Estimated Ridership</th>\n",
       "      <th>Subways: % of Comparable Pre-Pandemic Day</th>\n",
       "      <th>Buses: Total Estimated Ridership</th>\n",
       "      <th>Buses: % of Comparable Pre-Pandemic Day</th>\n",
       "      <th>LIRR: Total Estimated Ridership</th>\n",
       "      <th>LIRR: % of Comparable Pre-Pandemic Day</th>\n",
       "      <th>Metro-North: Total Estimated Ridership</th>\n",
       "      <th>Metro-North: % of Comparable Pre-Pandemic Day</th>\n",
       "      <th>Access-A-Ride: Total Scheduled Trips</th>\n",
       "      <th>Access-A-Ride: % of Comparable Pre-Pandemic Day</th>\n",
       "      <th>Bridges and Tunnels: Total Traffic</th>\n",
       "      <th>Bridges and Tunnels: % of Comparable Pre-Pandemic Day</th>\n",
       "      <th>Staten Island Railway: Total Estimated Ridership</th>\n",
       "      <th>Staten Island Railway: % of Comparable Pre-Pandemic Day</th>\n",
       "      <th>Day of Week</th>\n",
       "      <th>Month</th>\n",
       "      <th>Year</th>\n",
       "    </tr>\n",
       "  </thead>\n",
       "  <tbody>\n",
       "    <tr>\n",
       "      <th>0</th>\n",
       "      <td>2020-03-01</td>\n",
       "      <td>2212965</td>\n",
       "      <td>0.97</td>\n",
       "      <td>984908</td>\n",
       "      <td>0.99</td>\n",
       "      <td>86790</td>\n",
       "      <td>1.00</td>\n",
       "      <td>55825</td>\n",
       "      <td>0.59</td>\n",
       "      <td>19922</td>\n",
       "      <td>1.13</td>\n",
       "      <td>786960</td>\n",
       "      <td>0.98</td>\n",
       "      <td>1636</td>\n",
       "      <td>0.52</td>\n",
       "      <td>Sunday</td>\n",
       "      <td>March</td>\n",
       "      <td>2020</td>\n",
       "    </tr>\n",
       "    <tr>\n",
       "      <th>1</th>\n",
       "      <td>2020-03-02</td>\n",
       "      <td>5329915</td>\n",
       "      <td>0.96</td>\n",
       "      <td>2209066</td>\n",
       "      <td>0.99</td>\n",
       "      <td>321569</td>\n",
       "      <td>1.03</td>\n",
       "      <td>180701</td>\n",
       "      <td>0.66</td>\n",
       "      <td>30338</td>\n",
       "      <td>1.02</td>\n",
       "      <td>874619</td>\n",
       "      <td>0.95</td>\n",
       "      <td>17140</td>\n",
       "      <td>1.07</td>\n",
       "      <td>Monday</td>\n",
       "      <td>March</td>\n",
       "      <td>2020</td>\n",
       "    </tr>\n",
       "    <tr>\n",
       "      <th>2</th>\n",
       "      <td>2020-03-03</td>\n",
       "      <td>5481103</td>\n",
       "      <td>0.98</td>\n",
       "      <td>2228608</td>\n",
       "      <td>0.99</td>\n",
       "      <td>319727</td>\n",
       "      <td>1.02</td>\n",
       "      <td>190648</td>\n",
       "      <td>0.69</td>\n",
       "      <td>32767</td>\n",
       "      <td>1.10</td>\n",
       "      <td>882175</td>\n",
       "      <td>0.96</td>\n",
       "      <td>17453</td>\n",
       "      <td>1.09</td>\n",
       "      <td>Tuesday</td>\n",
       "      <td>March</td>\n",
       "      <td>2020</td>\n",
       "    </tr>\n",
       "    <tr>\n",
       "      <th>3</th>\n",
       "      <td>2020-03-04</td>\n",
       "      <td>5498809</td>\n",
       "      <td>0.99</td>\n",
       "      <td>2177165</td>\n",
       "      <td>0.97</td>\n",
       "      <td>311662</td>\n",
       "      <td>0.99</td>\n",
       "      <td>192689</td>\n",
       "      <td>0.70</td>\n",
       "      <td>34297</td>\n",
       "      <td>1.15</td>\n",
       "      <td>905558</td>\n",
       "      <td>0.98</td>\n",
       "      <td>17136</td>\n",
       "      <td>1.07</td>\n",
       "      <td>Wednesday</td>\n",
       "      <td>March</td>\n",
       "      <td>2020</td>\n",
       "    </tr>\n",
       "    <tr>\n",
       "      <th>4</th>\n",
       "      <td>2020-03-05</td>\n",
       "      <td>5496453</td>\n",
       "      <td>0.99</td>\n",
       "      <td>2244515</td>\n",
       "      <td>1.00</td>\n",
       "      <td>307597</td>\n",
       "      <td>0.98</td>\n",
       "      <td>194386</td>\n",
       "      <td>0.70</td>\n",
       "      <td>33209</td>\n",
       "      <td>1.12</td>\n",
       "      <td>929298</td>\n",
       "      <td>1.01</td>\n",
       "      <td>17203</td>\n",
       "      <td>1.08</td>\n",
       "      <td>Thursday</td>\n",
       "      <td>March</td>\n",
       "      <td>2020</td>\n",
       "    </tr>\n",
       "  </tbody>\n",
       "</table>\n",
       "</div>"
      ],
      "text/plain": [
       "        Date  Subways: Total Estimated Ridership  \\\n",
       "0 2020-03-01                             2212965   \n",
       "1 2020-03-02                             5329915   \n",
       "2 2020-03-03                             5481103   \n",
       "3 2020-03-04                             5498809   \n",
       "4 2020-03-05                             5496453   \n",
       "\n",
       "   Subways: % of Comparable Pre-Pandemic Day  \\\n",
       "0                                       0.97   \n",
       "1                                       0.96   \n",
       "2                                       0.98   \n",
       "3                                       0.99   \n",
       "4                                       0.99   \n",
       "\n",
       "   Buses: Total Estimated Ridership  Buses: % of Comparable Pre-Pandemic Day  \\\n",
       "0                            984908                                     0.99   \n",
       "1                           2209066                                     0.99   \n",
       "2                           2228608                                     0.99   \n",
       "3                           2177165                                     0.97   \n",
       "4                           2244515                                     1.00   \n",
       "\n",
       "   LIRR: Total Estimated Ridership  LIRR: % of Comparable Pre-Pandemic Day  \\\n",
       "0                            86790                                    1.00   \n",
       "1                           321569                                    1.03   \n",
       "2                           319727                                    1.02   \n",
       "3                           311662                                    0.99   \n",
       "4                           307597                                    0.98   \n",
       "\n",
       "   Metro-North: Total Estimated Ridership  \\\n",
       "0                                   55825   \n",
       "1                                  180701   \n",
       "2                                  190648   \n",
       "3                                  192689   \n",
       "4                                  194386   \n",
       "\n",
       "   Metro-North: % of Comparable Pre-Pandemic Day  \\\n",
       "0                                           0.59   \n",
       "1                                           0.66   \n",
       "2                                           0.69   \n",
       "3                                           0.70   \n",
       "4                                           0.70   \n",
       "\n",
       "   Access-A-Ride: Total Scheduled Trips  \\\n",
       "0                                 19922   \n",
       "1                                 30338   \n",
       "2                                 32767   \n",
       "3                                 34297   \n",
       "4                                 33209   \n",
       "\n",
       "   Access-A-Ride: % of Comparable Pre-Pandemic Day  \\\n",
       "0                                             1.13   \n",
       "1                                             1.02   \n",
       "2                                             1.10   \n",
       "3                                             1.15   \n",
       "4                                             1.12   \n",
       "\n",
       "   Bridges and Tunnels: Total Traffic  \\\n",
       "0                              786960   \n",
       "1                              874619   \n",
       "2                              882175   \n",
       "3                              905558   \n",
       "4                              929298   \n",
       "\n",
       "   Bridges and Tunnels: % of Comparable Pre-Pandemic Day  \\\n",
       "0                                               0.98       \n",
       "1                                               0.95       \n",
       "2                                               0.96       \n",
       "3                                               0.98       \n",
       "4                                               1.01       \n",
       "\n",
       "   Staten Island Railway: Total Estimated Ridership  \\\n",
       "0                                              1636   \n",
       "1                                             17140   \n",
       "2                                             17453   \n",
       "3                                             17136   \n",
       "4                                             17203   \n",
       "\n",
       "   Staten Island Railway: % of Comparable Pre-Pandemic Day Day of Week  Month  \\\n",
       "0                                               0.52            Sunday  March   \n",
       "1                                               1.07            Monday  March   \n",
       "2                                               1.09           Tuesday  March   \n",
       "3                                               1.07         Wednesday  March   \n",
       "4                                               1.08          Thursday  March   \n",
       "\n",
       "   Year  \n",
       "0  2020  \n",
       "1  2020  \n",
       "2  2020  \n",
       "3  2020  \n",
       "4  2020  "
      ]
     },
     "execution_count": 17,
     "metadata": {},
     "output_type": "execute_result"
    }
   ],
   "source": [
    "df.head()"
   ]
  },
  {
   "cell_type": "code",
   "execution_count": 18,
   "id": "6edede1b-9779-44d8-8327-94c16c717ebc",
   "metadata": {
    "tags": []
   },
   "outputs": [
    {
     "data": {
      "text/html": [
       "<div>\n",
       "<style scoped>\n",
       "    .dataframe tbody tr th:only-of-type {\n",
       "        vertical-align: middle;\n",
       "    }\n",
       "\n",
       "    .dataframe tbody tr th {\n",
       "        vertical-align: top;\n",
       "    }\n",
       "\n",
       "    .dataframe thead th {\n",
       "        text-align: right;\n",
       "    }\n",
       "</style>\n",
       "<table border=\"1\" class=\"dataframe\">\n",
       "  <thead>\n",
       "    <tr style=\"text-align: right;\">\n",
       "      <th></th>\n",
       "      <th>Date</th>\n",
       "      <th>Subways: Total Estimated Ridership</th>\n",
       "      <th>Subways: % of Comparable Pre-Pandemic Day</th>\n",
       "      <th>Buses: Total Estimated Ridership</th>\n",
       "      <th>Buses: % of Comparable Pre-Pandemic Day</th>\n",
       "      <th>LIRR: Total Estimated Ridership</th>\n",
       "      <th>LIRR: % of Comparable Pre-Pandemic Day</th>\n",
       "      <th>Metro-North: Total Estimated Ridership</th>\n",
       "      <th>Metro-North: % of Comparable Pre-Pandemic Day</th>\n",
       "      <th>Access-A-Ride: Total Scheduled Trips</th>\n",
       "      <th>Access-A-Ride: % of Comparable Pre-Pandemic Day</th>\n",
       "      <th>Bridges and Tunnels: Total Traffic</th>\n",
       "      <th>Bridges and Tunnels: % of Comparable Pre-Pandemic Day</th>\n",
       "      <th>Staten Island Railway: Total Estimated Ridership</th>\n",
       "      <th>Staten Island Railway: % of Comparable Pre-Pandemic Day</th>\n",
       "      <th>Day of Week</th>\n",
       "      <th>Month</th>\n",
       "      <th>Year</th>\n",
       "    </tr>\n",
       "  </thead>\n",
       "  <tbody>\n",
       "    <tr>\n",
       "      <th>1771</th>\n",
       "      <td>2025-01-05</td>\n",
       "      <td>1791020</td>\n",
       "      <td>0.86</td>\n",
       "      <td>618750</td>\n",
       "      <td>0.67</td>\n",
       "      <td>96683</td>\n",
       "      <td>1.17</td>\n",
       "      <td>79761</td>\n",
       "      <td>0.88</td>\n",
       "      <td>23665</td>\n",
       "      <td>1.75</td>\n",
       "      <td>726411</td>\n",
       "      <td>1.06</td>\n",
       "      <td>2039</td>\n",
       "      <td>0.74</td>\n",
       "      <td>Sunday</td>\n",
       "      <td>January</td>\n",
       "      <td>2025</td>\n",
       "    </tr>\n",
       "    <tr>\n",
       "      <th>1772</th>\n",
       "      <td>2025-01-06</td>\n",
       "      <td>3436491</td>\n",
       "      <td>0.67</td>\n",
       "      <td>1238969</td>\n",
       "      <td>0.61</td>\n",
       "      <td>229503</td>\n",
       "      <td>0.76</td>\n",
       "      <td>202575</td>\n",
       "      <td>0.75</td>\n",
       "      <td>35840</td>\n",
       "      <td>1.27</td>\n",
       "      <td>792617</td>\n",
       "      <td>0.91</td>\n",
       "      <td>6887</td>\n",
       "      <td>0.42</td>\n",
       "      <td>Monday</td>\n",
       "      <td>January</td>\n",
       "      <td>2025</td>\n",
       "    </tr>\n",
       "    <tr>\n",
       "      <th>1773</th>\n",
       "      <td>2025-01-07</td>\n",
       "      <td>3781536</td>\n",
       "      <td>0.74</td>\n",
       "      <td>1275936</td>\n",
       "      <td>0.62</td>\n",
       "      <td>245930</td>\n",
       "      <td>0.81</td>\n",
       "      <td>220945</td>\n",
       "      <td>0.82</td>\n",
       "      <td>38048</td>\n",
       "      <td>1.34</td>\n",
       "      <td>842968</td>\n",
       "      <td>0.97</td>\n",
       "      <td>7409</td>\n",
       "      <td>0.45</td>\n",
       "      <td>Tuesday</td>\n",
       "      <td>January</td>\n",
       "      <td>2025</td>\n",
       "    </tr>\n",
       "    <tr>\n",
       "      <th>1774</th>\n",
       "      <td>2025-01-08</td>\n",
       "      <td>3830616</td>\n",
       "      <td>0.74</td>\n",
       "      <td>1256260</td>\n",
       "      <td>0.61</td>\n",
       "      <td>239444</td>\n",
       "      <td>0.79</td>\n",
       "      <td>209550</td>\n",
       "      <td>0.78</td>\n",
       "      <td>39406</td>\n",
       "      <td>1.39</td>\n",
       "      <td>852748</td>\n",
       "      <td>0.98</td>\n",
       "      <td>7798</td>\n",
       "      <td>0.48</td>\n",
       "      <td>Wednesday</td>\n",
       "      <td>January</td>\n",
       "      <td>2025</td>\n",
       "    </tr>\n",
       "    <tr>\n",
       "      <th>1775</th>\n",
       "      <td>2025-01-09</td>\n",
       "      <td>3734383</td>\n",
       "      <td>0.73</td>\n",
       "      <td>787710</td>\n",
       "      <td>0.38</td>\n",
       "      <td>229804</td>\n",
       "      <td>0.76</td>\n",
       "      <td>198894</td>\n",
       "      <td>0.74</td>\n",
       "      <td>38431</td>\n",
       "      <td>1.36</td>\n",
       "      <td>869256</td>\n",
       "      <td>1.00</td>\n",
       "      <td>6841</td>\n",
       "      <td>0.42</td>\n",
       "      <td>Thursday</td>\n",
       "      <td>January</td>\n",
       "      <td>2025</td>\n",
       "    </tr>\n",
       "  </tbody>\n",
       "</table>\n",
       "</div>"
      ],
      "text/plain": [
       "           Date  Subways: Total Estimated Ridership  \\\n",
       "1771 2025-01-05                             1791020   \n",
       "1772 2025-01-06                             3436491   \n",
       "1773 2025-01-07                             3781536   \n",
       "1774 2025-01-08                             3830616   \n",
       "1775 2025-01-09                             3734383   \n",
       "\n",
       "      Subways: % of Comparable Pre-Pandemic Day  \\\n",
       "1771                                       0.86   \n",
       "1772                                       0.67   \n",
       "1773                                       0.74   \n",
       "1774                                       0.74   \n",
       "1775                                       0.73   \n",
       "\n",
       "      Buses: Total Estimated Ridership  \\\n",
       "1771                            618750   \n",
       "1772                           1238969   \n",
       "1773                           1275936   \n",
       "1774                           1256260   \n",
       "1775                            787710   \n",
       "\n",
       "      Buses: % of Comparable Pre-Pandemic Day  \\\n",
       "1771                                     0.67   \n",
       "1772                                     0.61   \n",
       "1773                                     0.62   \n",
       "1774                                     0.61   \n",
       "1775                                     0.38   \n",
       "\n",
       "      LIRR: Total Estimated Ridership  LIRR: % of Comparable Pre-Pandemic Day  \\\n",
       "1771                            96683                                    1.17   \n",
       "1772                           229503                                    0.76   \n",
       "1773                           245930                                    0.81   \n",
       "1774                           239444                                    0.79   \n",
       "1775                           229804                                    0.76   \n",
       "\n",
       "      Metro-North: Total Estimated Ridership  \\\n",
       "1771                                   79761   \n",
       "1772                                  202575   \n",
       "1773                                  220945   \n",
       "1774                                  209550   \n",
       "1775                                  198894   \n",
       "\n",
       "      Metro-North: % of Comparable Pre-Pandemic Day  \\\n",
       "1771                                           0.88   \n",
       "1772                                           0.75   \n",
       "1773                                           0.82   \n",
       "1774                                           0.78   \n",
       "1775                                           0.74   \n",
       "\n",
       "      Access-A-Ride: Total Scheduled Trips  \\\n",
       "1771                                 23665   \n",
       "1772                                 35840   \n",
       "1773                                 38048   \n",
       "1774                                 39406   \n",
       "1775                                 38431   \n",
       "\n",
       "      Access-A-Ride: % of Comparable Pre-Pandemic Day  \\\n",
       "1771                                             1.75   \n",
       "1772                                             1.27   \n",
       "1773                                             1.34   \n",
       "1774                                             1.39   \n",
       "1775                                             1.36   \n",
       "\n",
       "      Bridges and Tunnels: Total Traffic  \\\n",
       "1771                              726411   \n",
       "1772                              792617   \n",
       "1773                              842968   \n",
       "1774                              852748   \n",
       "1775                              869256   \n",
       "\n",
       "      Bridges and Tunnels: % of Comparable Pre-Pandemic Day  \\\n",
       "1771                                               1.06       \n",
       "1772                                               0.91       \n",
       "1773                                               0.97       \n",
       "1774                                               0.98       \n",
       "1775                                               1.00       \n",
       "\n",
       "      Staten Island Railway: Total Estimated Ridership  \\\n",
       "1771                                              2039   \n",
       "1772                                              6887   \n",
       "1773                                              7409   \n",
       "1774                                              7798   \n",
       "1775                                              6841   \n",
       "\n",
       "      Staten Island Railway: % of Comparable Pre-Pandemic Day Day of Week  \\\n",
       "1771                                               0.74            Sunday   \n",
       "1772                                               0.42            Monday   \n",
       "1773                                               0.45           Tuesday   \n",
       "1774                                               0.48         Wednesday   \n",
       "1775                                               0.42          Thursday   \n",
       "\n",
       "        Month  Year  \n",
       "1771  January  2025  \n",
       "1772  January  2025  \n",
       "1773  January  2025  \n",
       "1774  January  2025  \n",
       "1775  January  2025  "
      ]
     },
     "execution_count": 18,
     "metadata": {},
     "output_type": "execute_result"
    }
   ],
   "source": [
    "df.tail()"
   ]
  },
  {
   "cell_type": "markdown",
   "id": "6f841a7a-5acf-4568-b608-ea63bb00af79",
   "metadata": {
    "tags": []
   },
   "source": [
    "# Exploratory Data"
   ]
  },
  {
   "cell_type": "code",
   "execution_count": 19,
   "id": "8c827b25-61b6-4afe-bb0f-3b4adec026b9",
   "metadata": {
    "tags": []
   },
   "outputs": [
    {
     "data": {
      "text/plain": [
       "Day of Week\n",
       "Sunday       254\n",
       "Monday       254\n",
       "Tuesday      254\n",
       "Wednesday    254\n",
       "Thursday     254\n",
       "Friday       253\n",
       "Saturday     253\n",
       "Name: count, dtype: int64"
      ]
     },
     "execution_count": 19,
     "metadata": {},
     "output_type": "execute_result"
    }
   ],
   "source": [
    "df['Day of Week'].value_counts()"
   ]
  },
  {
   "cell_type": "markdown",
   "id": "4abcc547-45e6-4179-a3c7-0626040d3010",
   "metadata": {},
   "source": [
    "> Sunday through Thursday is represented equally at 254 through out the data set except for Friday and Saturday at 253."
   ]
  },
  {
   "cell_type": "code",
   "execution_count": 20,
   "id": "27f6ce21-fb87-4685-83ce-9a48cd20b533",
   "metadata": {
    "tags": []
   },
   "outputs": [
    {
     "data": {
      "image/png": "[encoded data removed]",
      "text/plain": [
       "<Figure size 640x480 with 1 Axes>"
      ]
     },
     "metadata": {},
     "output_type": "display_data"
    }
   ],
   "source": [
    "sns.countplot(data = df, x = 'Day of Week');"
   ]
  },
  {
   "cell_type": "code",
   "execution_count": 21,
   "id": "220aafcc-8276-4d72-b49e-3f8bf30fe1b3",
   "metadata": {
    "tags": []
   },
   "outputs": [
    {
     "data": {
      "text/plain": [
       "Month\n",
       "March        155\n",
       "May          155\n",
       "July         155\n",
       "August       155\n",
       "October      155\n",
       "December     155\n",
       "April        150\n",
       "June         150\n",
       "September    150\n",
       "November     150\n",
       "January      133\n",
       "February     113\n",
       "Name: count, dtype: int64"
      ]
     },
     "execution_count": 21,
     "metadata": {},
     "output_type": "execute_result"
    }
   ],
   "source": [
    "df['Month'].value_counts()"
   ]
  },
  {
   "cell_type": "markdown",
   "id": "cc4f9dfa-f58f-41ef-9cb0-d653076262ec",
   "metadata": {
    "tags": []
   },
   "source": [
    "> March, May, July, August, October and december appeared in the dataset 155 times. With April, June, September and November appearing 150 times. January 133 and February 113. Perhaps this can be attributed to the dates in the data set starting in March of 2020 and ending in January 2025. I will look more into this."
   ]
  },
  {
   "cell_type": "code",
   "execution_count": 22,
   "id": "8e5bafc3-55d3-40e0-af21-61acc749451d",
   "metadata": {
    "tags": []
   },
   "outputs": [
    {
     "data": {
      "image/png": "[encoded data removed]",
      "text/plain": [
       "<Figure size 1200x800 with 1 Axes>"
      ]
     },
     "metadata": {},
     "output_type": "display_data"
    }
   ],
   "source": [
    "plt.figure(figsize = (12, 8))\n",
    "sns.countplot(data = df, x = 'Month');"
   ]
  },
  {
   "cell_type": "code",
   "execution_count": 23,
   "id": "4fa50aee-e15a-4350-92a5-22e98cace812",
   "metadata": {
    "tags": []
   },
   "outputs": [
    {
     "data": {
      "text/plain": [
       "Year\n",
       "2024    366\n",
       "2021    365\n",
       "2022    365\n",
       "2023    365\n",
       "2020    306\n",
       "2025      9\n",
       "Name: count, dtype: int64"
      ]
     },
     "execution_count": 23,
     "metadata": {},
     "output_type": "execute_result"
    }
   ],
   "source": [
    "df['Year'].value_counts()"
   ]
  },
  {
   "cell_type": "markdown",
   "id": "2da7314c-2a8f-42f5-9c77-0273ac07444d",
   "metadata": {},
   "source": [
    "> 2020 appears 306 times. 2025 appears the least with 9 counts and 2024 is appears the most with 366 counts. Ounce again I believe this is due to the dataset beginning in March of 2020 and ending in January of 2025. "
   ]
  },
  {
   "cell_type": "code",
   "execution_count": 24,
   "id": "ea3abe63-8b68-4adf-a9ca-54a2a35c2161",
   "metadata": {
    "tags": []
   },
   "outputs": [
    {
     "data": {
      "image/png": "[encoded data removed]",
      "text/plain": [
       "<Figure size 640x480 with 1 Axes>"
      ]
     },
     "metadata": {},
     "output_type": "display_data"
    }
   ],
   "source": [
    "sns.countplot(data = df, x = 'Year');"
   ]
  },
  {
   "cell_type": "code",
   "execution_count": 25,
   "id": "1bac5d37-4d9e-4561-ab90-49fb9006b33d",
   "metadata": {
    "tags": []
   },
   "outputs": [],
   "source": [
    "# Let's look at the ranges of each column."
   ]
  },
  {
   "cell_type": "code",
   "execution_count": 26,
   "id": "3e8f8920-817f-4443-996f-1aad4235fab6",
   "metadata": {
    "tags": []
   },
   "outputs": [
    {
     "data": {
      "text/plain": [
       "('Subway ridership range is', 5300410)"
      ]
     },
     "execution_count": 26,
     "metadata": {},
     "output_type": "execute_result"
    }
   ],
   "source": [
    "\"Subway ridership range is\", df['Subways: Total Estimated Ridership'].max() - df['Subways: Total Estimated Ridership'].min()"
   ]
  },
  {
   "cell_type": "code",
   "execution_count": 27,
   "id": "12a88f39-e0fa-4d57-af80-dc30496365e0",
   "metadata": {
    "tags": []
   },
   "outputs": [
    {
     "data": {
      "text/plain": [
       "('Bus ridership range is', 2239017)"
      ]
     },
     "execution_count": 27,
     "metadata": {},
     "output_type": "execute_result"
    }
   ],
   "source": [
    "\"Bus ridership range is\", df['Buses: Total Estimated Ridership'].max() - df['Buses: Total Estimated Ridership'].min()"
   ]
  },
  {
   "cell_type": "code",
   "execution_count": 28,
   "id": "1dd8ac0b-2377-4856-b72e-dd2ba0aa592e",
   "metadata": {
    "tags": []
   },
   "outputs": [
    {
     "data": {
      "text/plain": [
       "('Long Island Railroad ridership range is', 319666)"
      ]
     },
     "execution_count": 28,
     "metadata": {},
     "output_type": "execute_result"
    }
   ],
   "source": [
    "\"Long Island Railroad ridership range is\", df['LIRR: Total Estimated Ridership'].max() - df['LIRR: Total Estimated Ridership'].min()"
   ]
  },
  {
   "cell_type": "code",
   "execution_count": 29,
   "id": "12884ab7-3361-45ad-9d4f-1ebce240a42c",
   "metadata": {
    "tags": []
   },
   "outputs": [
    {
     "data": {
      "text/plain": [
       "('Metro North ridership range is', 246304)"
      ]
     },
     "execution_count": 29,
     "metadata": {},
     "output_type": "execute_result"
    }
   ],
   "source": [
    "\"Metro North ridership range is\", df['Metro-North: Total Estimated Ridership'].max() - df['Metro-North: Total Estimated Ridership'].min()"
   ]
  },
  {
   "cell_type": "code",
   "execution_count": 30,
   "id": "044ceb17-73ba-462c-bce1-c05726d49c09",
   "metadata": {
    "tags": []
   },
   "outputs": [
    {
     "data": {
      "text/plain": [
       "('Access-A-Ride ridership rang is', 39352)"
      ]
     },
     "execution_count": 30,
     "metadata": {},
     "output_type": "execute_result"
    }
   ],
   "source": [
    "\"Access-A-Ride ridership rang is\", df['Access-A-Ride: Total Scheduled Trips'].max() - df['Access-A-Ride: Total Scheduled Trips'].min()"
   ]
  },
  {
   "cell_type": "code",
   "execution_count": 31,
   "id": "1f1a6091-c678-479e-a84f-ebe894fd83a5",
   "metadata": {
    "tags": []
   },
   "outputs": [
    {
     "data": {
      "text/plain": [
       "('Bridges and Tunnels ridership range is', 887043)"
      ]
     },
     "execution_count": 31,
     "metadata": {},
     "output_type": "execute_result"
    }
   ],
   "source": [
    "\"Bridges and Tunnels ridership range is\",df['Bridges and Tunnels: Total Traffic'].max() - df['Bridges and Tunnels: Total Traffic'].min()"
   ]
  },
  {
   "cell_type": "code",
   "execution_count": 32,
   "id": "6e262b06-2544-4cb8-a082-f96bad0b6e2f",
   "metadata": {
    "tags": []
   },
   "outputs": [
    {
     "data": {
      "text/plain": [
       "('Staten Island ridership range is ', 17453)"
      ]
     },
     "execution_count": 32,
     "metadata": {},
     "output_type": "execute_result"
    }
   ],
   "source": [
    "\"Staten Island ridership range is \", df['Staten Island Railway: Total Estimated Ridership'].max() - df['Staten Island Railway: Total Estimated Ridership'].min()"
   ]
  },
  {
   "cell_type": "code",
   "execution_count": 33,
   "id": "c4b635d2-79db-413f-9950-257dfc9a8994",
   "metadata": {
    "tags": []
   },
   "outputs": [],
   "source": [
    "# Lets look at the max for each form of trasnportation "
   ]
  },
  {
   "cell_type": "code",
   "execution_count": 34,
   "id": "80cd2478-8e01-4818-9457-46bb21e6de3c",
   "metadata": {
    "tags": []
   },
   "outputs": [
    {
     "data": {
      "text/plain": [
       "5498809"
      ]
     },
     "execution_count": 34,
     "metadata": {},
     "output_type": "execute_result"
    }
   ],
   "source": [
    "df['Subways: Total Estimated Ridership'].max()"
   ]
  },
  {
   "cell_type": "code",
   "execution_count": 35,
   "id": "c36d34f3-c3ee-4d3d-9219-3c2ab5943c47",
   "metadata": {
    "tags": []
   },
   "outputs": [
    {
     "data": {
      "text/html": [
       "<div>\n",
       "<style scoped>\n",
       "    .dataframe tbody tr th:only-of-type {\n",
       "        vertical-align: middle;\n",
       "    }\n",
       "\n",
       "    .dataframe tbody tr th {\n",
       "        vertical-align: top;\n",
       "    }\n",
       "\n",
       "    .dataframe thead th {\n",
       "        text-align: right;\n",
       "    }\n",
       "</style>\n",
       "<table border=\"1\" class=\"dataframe\">\n",
       "  <thead>\n",
       "    <tr style=\"text-align: right;\">\n",
       "      <th></th>\n",
       "      <th>Date</th>\n",
       "      <th>Subways: Total Estimated Ridership</th>\n",
       "      <th>Subways: % of Comparable Pre-Pandemic Day</th>\n",
       "      <th>Buses: Total Estimated Ridership</th>\n",
       "      <th>Buses: % of Comparable Pre-Pandemic Day</th>\n",
       "      <th>LIRR: Total Estimated Ridership</th>\n",
       "      <th>LIRR: % of Comparable Pre-Pandemic Day</th>\n",
       "      <th>Metro-North: Total Estimated Ridership</th>\n",
       "      <th>Metro-North: % of Comparable Pre-Pandemic Day</th>\n",
       "      <th>Access-A-Ride: Total Scheduled Trips</th>\n",
       "      <th>Access-A-Ride: % of Comparable Pre-Pandemic Day</th>\n",
       "      <th>Bridges and Tunnels: Total Traffic</th>\n",
       "      <th>Bridges and Tunnels: % of Comparable Pre-Pandemic Day</th>\n",
       "      <th>Staten Island Railway: Total Estimated Ridership</th>\n",
       "      <th>Staten Island Railway: % of Comparable Pre-Pandemic Day</th>\n",
       "      <th>Day of Week</th>\n",
       "      <th>Month</th>\n",
       "      <th>Year</th>\n",
       "    </tr>\n",
       "  </thead>\n",
       "  <tbody>\n",
       "    <tr>\n",
       "      <th>3</th>\n",
       "      <td>2020-03-04</td>\n",
       "      <td>5498809</td>\n",
       "      <td>0.99</td>\n",
       "      <td>2177165</td>\n",
       "      <td>0.97</td>\n",
       "      <td>311662</td>\n",
       "      <td>0.99</td>\n",
       "      <td>192689</td>\n",
       "      <td>0.7</td>\n",
       "      <td>34297</td>\n",
       "      <td>1.15</td>\n",
       "      <td>905558</td>\n",
       "      <td>0.98</td>\n",
       "      <td>17136</td>\n",
       "      <td>1.07</td>\n",
       "      <td>Wednesday</td>\n",
       "      <td>March</td>\n",
       "      <td>2020</td>\n",
       "    </tr>\n",
       "  </tbody>\n",
       "</table>\n",
       "</div>"
      ],
      "text/plain": [
       "        Date  Subways: Total Estimated Ridership  \\\n",
       "3 2020-03-04                             5498809   \n",
       "\n",
       "   Subways: % of Comparable Pre-Pandemic Day  \\\n",
       "3                                       0.99   \n",
       "\n",
       "   Buses: Total Estimated Ridership  Buses: % of Comparable Pre-Pandemic Day  \\\n",
       "3                           2177165                                     0.97   \n",
       "\n",
       "   LIRR: Total Estimated Ridership  LIRR: % of Comparable Pre-Pandemic Day  \\\n",
       "3                           311662                                    0.99   \n",
       "\n",
       "   Metro-North: Total Estimated Ridership  \\\n",
       "3                                  192689   \n",
       "\n",
       "   Metro-North: % of Comparable Pre-Pandemic Day  \\\n",
       "3                                            0.7   \n",
       "\n",
       "   Access-A-Ride: Total Scheduled Trips  \\\n",
       "3                                 34297   \n",
       "\n",
       "   Access-A-Ride: % of Comparable Pre-Pandemic Day  \\\n",
       "3                                             1.15   \n",
       "\n",
       "   Bridges and Tunnels: Total Traffic  \\\n",
       "3                              905558   \n",
       "\n",
       "   Bridges and Tunnels: % of Comparable Pre-Pandemic Day  \\\n",
       "3                                               0.98       \n",
       "\n",
       "   Staten Island Railway: Total Estimated Ridership  \\\n",
       "3                                             17136   \n",
       "\n",
       "   Staten Island Railway: % of Comparable Pre-Pandemic Day Day of Week  Month  \\\n",
       "3                                               1.07         Wednesday  March   \n",
       "\n",
       "   Year  \n",
       "3  2020  "
      ]
     },
     "execution_count": 35,
     "metadata": {},
     "output_type": "execute_result"
    }
   ],
   "source": [
    "df.loc[df['Subways: Total Estimated Ridership'] == 5498809, :]"
   ]
  },
  {
   "cell_type": "code",
   "execution_count": 36,
   "id": "b29308f2-f955-42b6-b5af-36f5d81299b6",
   "metadata": {
    "tags": []
   },
   "outputs": [
    {
     "data": {
      "text/plain": [
       "2244515"
      ]
     },
     "execution_count": 36,
     "metadata": {},
     "output_type": "execute_result"
    }
   ],
   "source": [
    "df['Buses: Total Estimated Ridership'].max()"
   ]
  },
  {
   "cell_type": "code",
   "execution_count": 37,
   "id": "04f0879e-5dc5-4ae7-9618-b2f5ce4abd2d",
   "metadata": {
    "tags": []
   },
   "outputs": [
    {
     "data": {
      "text/html": [
       "<div>\n",
       "<style scoped>\n",
       "    .dataframe tbody tr th:only-of-type {\n",
       "        vertical-align: middle;\n",
       "    }\n",
       "\n",
       "    .dataframe tbody tr th {\n",
       "        vertical-align: top;\n",
       "    }\n",
       "\n",
       "    .dataframe thead th {\n",
       "        text-align: right;\n",
       "    }\n",
       "</style>\n",
       "<table border=\"1\" class=\"dataframe\">\n",
       "  <thead>\n",
       "    <tr style=\"text-align: right;\">\n",
       "      <th></th>\n",
       "      <th>Date</th>\n",
       "      <th>Subways: Total Estimated Ridership</th>\n",
       "      <th>Subways: % of Comparable Pre-Pandemic Day</th>\n",
       "      <th>Buses: Total Estimated Ridership</th>\n",
       "      <th>Buses: % of Comparable Pre-Pandemic Day</th>\n",
       "      <th>LIRR: Total Estimated Ridership</th>\n",
       "      <th>LIRR: % of Comparable Pre-Pandemic Day</th>\n",
       "      <th>Metro-North: Total Estimated Ridership</th>\n",
       "      <th>Metro-North: % of Comparable Pre-Pandemic Day</th>\n",
       "      <th>Access-A-Ride: Total Scheduled Trips</th>\n",
       "      <th>Access-A-Ride: % of Comparable Pre-Pandemic Day</th>\n",
       "      <th>Bridges and Tunnels: Total Traffic</th>\n",
       "      <th>Bridges and Tunnels: % of Comparable Pre-Pandemic Day</th>\n",
       "      <th>Staten Island Railway: Total Estimated Ridership</th>\n",
       "      <th>Staten Island Railway: % of Comparable Pre-Pandemic Day</th>\n",
       "      <th>Day of Week</th>\n",
       "      <th>Month</th>\n",
       "      <th>Year</th>\n",
       "    </tr>\n",
       "  </thead>\n",
       "  <tbody>\n",
       "    <tr>\n",
       "      <th>4</th>\n",
       "      <td>2020-03-05</td>\n",
       "      <td>5496453</td>\n",
       "      <td>0.99</td>\n",
       "      <td>2244515</td>\n",
       "      <td>1.0</td>\n",
       "      <td>307597</td>\n",
       "      <td>0.98</td>\n",
       "      <td>194386</td>\n",
       "      <td>0.7</td>\n",
       "      <td>33209</td>\n",
       "      <td>1.12</td>\n",
       "      <td>929298</td>\n",
       "      <td>1.01</td>\n",
       "      <td>17203</td>\n",
       "      <td>1.08</td>\n",
       "      <td>Thursday</td>\n",
       "      <td>March</td>\n",
       "      <td>2020</td>\n",
       "    </tr>\n",
       "  </tbody>\n",
       "</table>\n",
       "</div>"
      ],
      "text/plain": [
       "        Date  Subways: Total Estimated Ridership  \\\n",
       "4 2020-03-05                             5496453   \n",
       "\n",
       "   Subways: % of Comparable Pre-Pandemic Day  \\\n",
       "4                                       0.99   \n",
       "\n",
       "   Buses: Total Estimated Ridership  Buses: % of Comparable Pre-Pandemic Day  \\\n",
       "4                           2244515                                      1.0   \n",
       "\n",
       "   LIRR: Total Estimated Ridership  LIRR: % of Comparable Pre-Pandemic Day  \\\n",
       "4                           307597                                    0.98   \n",
       "\n",
       "   Metro-North: Total Estimated Ridership  \\\n",
       "4                                  194386   \n",
       "\n",
       "   Metro-North: % of Comparable Pre-Pandemic Day  \\\n",
       "4                                            0.7   \n",
       "\n",
       "   Access-A-Ride: Total Scheduled Trips  \\\n",
       "4                                 33209   \n",
       "\n",
       "   Access-A-Ride: % of Comparable Pre-Pandemic Day  \\\n",
       "4                                             1.12   \n",
       "\n",
       "   Bridges and Tunnels: Total Traffic  \\\n",
       "4                              929298   \n",
       "\n",
       "   Bridges and Tunnels: % of Comparable Pre-Pandemic Day  \\\n",
       "4                                               1.01       \n",
       "\n",
       "   Staten Island Railway: Total Estimated Ridership  \\\n",
       "4                                             17203   \n",
       "\n",
       "   Staten Island Railway: % of Comparable Pre-Pandemic Day Day of Week  Month  \\\n",
       "4                                               1.08          Thursday  March   \n",
       "\n",
       "   Year  \n",
       "4  2020  "
      ]
     },
     "execution_count": 37,
     "metadata": {},
     "output_type": "execute_result"
    }
   ],
   "source": [
    "df.loc[df['Buses: Total Estimated Ridership'] == 2244515, :]"
   ]
  },
  {
   "cell_type": "code",
   "execution_count": 38,
   "id": "6d5b8d96-560e-4767-8eee-cbba6702effd",
   "metadata": {
    "tags": []
   },
   "outputs": [
    {
     "data": {
      "text/plain": [
       "321569"
      ]
     },
     "execution_count": 38,
     "metadata": {},
     "output_type": "execute_result"
    }
   ],
   "source": [
    "df['LIRR: Total Estimated Ridership'].max()"
   ]
  },
  {
   "cell_type": "code",
   "execution_count": 39,
   "id": "6530980a-c528-42df-8574-cb5cfddbec7f",
   "metadata": {
    "tags": []
   },
   "outputs": [
    {
     "data": {
      "text/html": [
       "<div>\n",
       "<style scoped>\n",
       "    .dataframe tbody tr th:only-of-type {\n",
       "        vertical-align: middle;\n",
       "    }\n",
       "\n",
       "    .dataframe tbody tr th {\n",
       "        vertical-align: top;\n",
       "    }\n",
       "\n",
       "    .dataframe thead th {\n",
       "        text-align: right;\n",
       "    }\n",
       "</style>\n",
       "<table border=\"1\" class=\"dataframe\">\n",
       "  <thead>\n",
       "    <tr style=\"text-align: right;\">\n",
       "      <th></th>\n",
       "      <th>Date</th>\n",
       "      <th>Subways: Total Estimated Ridership</th>\n",
       "      <th>Subways: % of Comparable Pre-Pandemic Day</th>\n",
       "      <th>Buses: Total Estimated Ridership</th>\n",
       "      <th>Buses: % of Comparable Pre-Pandemic Day</th>\n",
       "      <th>LIRR: Total Estimated Ridership</th>\n",
       "      <th>LIRR: % of Comparable Pre-Pandemic Day</th>\n",
       "      <th>Metro-North: Total Estimated Ridership</th>\n",
       "      <th>Metro-North: % of Comparable Pre-Pandemic Day</th>\n",
       "      <th>Access-A-Ride: Total Scheduled Trips</th>\n",
       "      <th>Access-A-Ride: % of Comparable Pre-Pandemic Day</th>\n",
       "      <th>Bridges and Tunnels: Total Traffic</th>\n",
       "      <th>Bridges and Tunnels: % of Comparable Pre-Pandemic Day</th>\n",
       "      <th>Staten Island Railway: Total Estimated Ridership</th>\n",
       "      <th>Staten Island Railway: % of Comparable Pre-Pandemic Day</th>\n",
       "      <th>Day of Week</th>\n",
       "      <th>Month</th>\n",
       "      <th>Year</th>\n",
       "    </tr>\n",
       "  </thead>\n",
       "  <tbody>\n",
       "    <tr>\n",
       "      <th>1</th>\n",
       "      <td>2020-03-02</td>\n",
       "      <td>5329915</td>\n",
       "      <td>0.96</td>\n",
       "      <td>2209066</td>\n",
       "      <td>0.99</td>\n",
       "      <td>321569</td>\n",
       "      <td>1.03</td>\n",
       "      <td>180701</td>\n",
       "      <td>0.66</td>\n",
       "      <td>30338</td>\n",
       "      <td>1.02</td>\n",
       "      <td>874619</td>\n",
       "      <td>0.95</td>\n",
       "      <td>17140</td>\n",
       "      <td>1.07</td>\n",
       "      <td>Monday</td>\n",
       "      <td>March</td>\n",
       "      <td>2020</td>\n",
       "    </tr>\n",
       "  </tbody>\n",
       "</table>\n",
       "</div>"
      ],
      "text/plain": [
       "        Date  Subways: Total Estimated Ridership  \\\n",
       "1 2020-03-02                             5329915   \n",
       "\n",
       "   Subways: % of Comparable Pre-Pandemic Day  \\\n",
       "1                                       0.96   \n",
       "\n",
       "   Buses: Total Estimated Ridership  Buses: % of Comparable Pre-Pandemic Day  \\\n",
       "1                           2209066                                     0.99   \n",
       "\n",
       "   LIRR: Total Estimated Ridership  LIRR: % of Comparable Pre-Pandemic Day  \\\n",
       "1                           321569                                    1.03   \n",
       "\n",
       "   Metro-North: Total Estimated Ridership  \\\n",
       "1                                  180701   \n",
       "\n",
       "   Metro-North: % of Comparable Pre-Pandemic Day  \\\n",
       "1                                           0.66   \n",
       "\n",
       "   Access-A-Ride: Total Scheduled Trips  \\\n",
       "1                                 30338   \n",
       "\n",
       "   Access-A-Ride: % of Comparable Pre-Pandemic Day  \\\n",
       "1                                             1.02   \n",
       "\n",
       "   Bridges and Tunnels: Total Traffic  \\\n",
       "1                              874619   \n",
       "\n",
       "   Bridges and Tunnels: % of Comparable Pre-Pandemic Day  \\\n",
       "1                                               0.95       \n",
       "\n",
       "   Staten Island Railway: Total Estimated Ridership  \\\n",
       "1                                             17140   \n",
       "\n",
       "   Staten Island Railway: % of Comparable Pre-Pandemic Day Day of Week  Month  \\\n",
       "1                                               1.07            Monday  March   \n",
       "\n",
       "   Year  \n",
       "1  2020  "
      ]
     },
     "execution_count": 39,
     "metadata": {},
     "output_type": "execute_result"
    }
   ],
   "source": [
    "df.loc[df['LIRR: Total Estimated Ridership'] == 321569, :]"
   ]
  },
  {
   "cell_type": "code",
   "execution_count": 40,
   "id": "4ea86acc-54bf-4888-a3b5-95fac7bba4e1",
   "metadata": {
    "tags": []
   },
   "outputs": [
    {
     "data": {
      "text/plain": [
       "249585"
      ]
     },
     "execution_count": 40,
     "metadata": {},
     "output_type": "execute_result"
    }
   ],
   "source": [
    "df['Metro-North: Total Estimated Ridership'].max()"
   ]
  },
  {
   "cell_type": "code",
   "execution_count": 41,
   "id": "38e9271d-8930-4994-89b0-b88dc6028782",
   "metadata": {
    "tags": []
   },
   "outputs": [
    {
     "data": {
      "text/html": [
       "<div>\n",
       "<style scoped>\n",
       "    .dataframe tbody tr th:only-of-type {\n",
       "        vertical-align: middle;\n",
       "    }\n",
       "\n",
       "    .dataframe tbody tr th {\n",
       "        vertical-align: top;\n",
       "    }\n",
       "\n",
       "    .dataframe thead th {\n",
       "        text-align: right;\n",
       "    }\n",
       "</style>\n",
       "<table border=\"1\" class=\"dataframe\">\n",
       "  <thead>\n",
       "    <tr style=\"text-align: right;\">\n",
       "      <th></th>\n",
       "      <th>Date</th>\n",
       "      <th>Subways: Total Estimated Ridership</th>\n",
       "      <th>Subways: % of Comparable Pre-Pandemic Day</th>\n",
       "      <th>Buses: Total Estimated Ridership</th>\n",
       "      <th>Buses: % of Comparable Pre-Pandemic Day</th>\n",
       "      <th>LIRR: Total Estimated Ridership</th>\n",
       "      <th>LIRR: % of Comparable Pre-Pandemic Day</th>\n",
       "      <th>Metro-North: Total Estimated Ridership</th>\n",
       "      <th>Metro-North: % of Comparable Pre-Pandemic Day</th>\n",
       "      <th>Access-A-Ride: Total Scheduled Trips</th>\n",
       "      <th>Access-A-Ride: % of Comparable Pre-Pandemic Day</th>\n",
       "      <th>Bridges and Tunnels: Total Traffic</th>\n",
       "      <th>Bridges and Tunnels: % of Comparable Pre-Pandemic Day</th>\n",
       "      <th>Staten Island Railway: Total Estimated Ridership</th>\n",
       "      <th>Staten Island Railway: % of Comparable Pre-Pandemic Day</th>\n",
       "      <th>Day of Week</th>\n",
       "      <th>Month</th>\n",
       "      <th>Year</th>\n",
       "    </tr>\n",
       "  </thead>\n",
       "  <tbody>\n",
       "  </tbody>\n",
       "</table>\n",
       "</div>"
      ],
      "text/plain": [
       "Empty DataFrame\n",
       "Columns: [Date, Subways: Total Estimated Ridership, Subways: % of Comparable Pre-Pandemic Day, Buses: Total Estimated Ridership, Buses: % of Comparable Pre-Pandemic Day, LIRR: Total Estimated Ridership, LIRR: % of Comparable Pre-Pandemic Day, Metro-North: Total Estimated Ridership, Metro-North: % of Comparable Pre-Pandemic Day, Access-A-Ride: Total Scheduled Trips, Access-A-Ride: % of Comparable Pre-Pandemic Day, Bridges and Tunnels: Total Traffic, Bridges and Tunnels: % of Comparable Pre-Pandemic Day, Staten Island Railway: Total Estimated Ridership, Staten Island Railway: % of Comparable Pre-Pandemic Day, Day of Week, Month, Year]\n",
       "Index: []"
      ]
     },
     "execution_count": 41,
     "metadata": {},
     "output_type": "execute_result"
    }
   ],
   "source": [
    "df.loc[df['Metro-North: Total Estimated Ridership'] == 248585, :]"
   ]
  },
  {
   "cell_type": "code",
   "execution_count": 42,
   "id": "f5dfc97b-b00c-4dba-8b9e-f1debcfcc949",
   "metadata": {
    "tags": []
   },
   "outputs": [
    {
     "data": {
      "text/plain": [
       "41858"
      ]
     },
     "execution_count": 42,
     "metadata": {},
     "output_type": "execute_result"
    }
   ],
   "source": [
    "df['Access-A-Ride: Total Scheduled Trips'].max()"
   ]
  },
  {
   "cell_type": "code",
   "execution_count": 43,
   "id": "5f88a27b-6e07-4776-91fa-06799277494f",
   "metadata": {
    "tags": []
   },
   "outputs": [
    {
     "data": {
      "text/html": [
       "<div>\n",
       "<style scoped>\n",
       "    .dataframe tbody tr th:only-of-type {\n",
       "        vertical-align: middle;\n",
       "    }\n",
       "\n",
       "    .dataframe tbody tr th {\n",
       "        vertical-align: top;\n",
       "    }\n",
       "\n",
       "    .dataframe thead th {\n",
       "        text-align: right;\n",
       "    }\n",
       "</style>\n",
       "<table border=\"1\" class=\"dataframe\">\n",
       "  <thead>\n",
       "    <tr style=\"text-align: right;\">\n",
       "      <th></th>\n",
       "      <th>Date</th>\n",
       "      <th>Subways: Total Estimated Ridership</th>\n",
       "      <th>Subways: % of Comparable Pre-Pandemic Day</th>\n",
       "      <th>Buses: Total Estimated Ridership</th>\n",
       "      <th>Buses: % of Comparable Pre-Pandemic Day</th>\n",
       "      <th>LIRR: Total Estimated Ridership</th>\n",
       "      <th>LIRR: % of Comparable Pre-Pandemic Day</th>\n",
       "      <th>Metro-North: Total Estimated Ridership</th>\n",
       "      <th>Metro-North: % of Comparable Pre-Pandemic Day</th>\n",
       "      <th>Access-A-Ride: Total Scheduled Trips</th>\n",
       "      <th>Access-A-Ride: % of Comparable Pre-Pandemic Day</th>\n",
       "      <th>Bridges and Tunnels: Total Traffic</th>\n",
       "      <th>Bridges and Tunnels: % of Comparable Pre-Pandemic Day</th>\n",
       "      <th>Staten Island Railway: Total Estimated Ridership</th>\n",
       "      <th>Staten Island Railway: % of Comparable Pre-Pandemic Day</th>\n",
       "      <th>Day of Week</th>\n",
       "      <th>Month</th>\n",
       "      <th>Year</th>\n",
       "    </tr>\n",
       "  </thead>\n",
       "  <tbody>\n",
       "    <tr>\n",
       "      <th>1739</th>\n",
       "      <td>2024-12-04</td>\n",
       "      <td>4374883</td>\n",
       "      <td>0.82</td>\n",
       "      <td>1446527</td>\n",
       "      <td>0.72</td>\n",
       "      <td>254632</td>\n",
       "      <td>0.81</td>\n",
       "      <td>224379</td>\n",
       "      <td>0.8</td>\n",
       "      <td>41858</td>\n",
       "      <td>1.44</td>\n",
       "      <td>944014</td>\n",
       "      <td>1.07</td>\n",
       "      <td>8265</td>\n",
       "      <td>0.53</td>\n",
       "      <td>Wednesday</td>\n",
       "      <td>December</td>\n",
       "      <td>2024</td>\n",
       "    </tr>\n",
       "  </tbody>\n",
       "</table>\n",
       "</div>"
      ],
      "text/plain": [
       "           Date  Subways: Total Estimated Ridership  \\\n",
       "1739 2024-12-04                             4374883   \n",
       "\n",
       "      Subways: % of Comparable Pre-Pandemic Day  \\\n",
       "1739                                       0.82   \n",
       "\n",
       "      Buses: Total Estimated Ridership  \\\n",
       "1739                           1446527   \n",
       "\n",
       "      Buses: % of Comparable Pre-Pandemic Day  \\\n",
       "1739                                     0.72   \n",
       "\n",
       "      LIRR: Total Estimated Ridership  LIRR: % of Comparable Pre-Pandemic Day  \\\n",
       "1739                           254632                                    0.81   \n",
       "\n",
       "      Metro-North: Total Estimated Ridership  \\\n",
       "1739                                  224379   \n",
       "\n",
       "      Metro-North: % of Comparable Pre-Pandemic Day  \\\n",
       "1739                                            0.8   \n",
       "\n",
       "      Access-A-Ride: Total Scheduled Trips  \\\n",
       "1739                                 41858   \n",
       "\n",
       "      Access-A-Ride: % of Comparable Pre-Pandemic Day  \\\n",
       "1739                                             1.44   \n",
       "\n",
       "      Bridges and Tunnels: Total Traffic  \\\n",
       "1739                              944014   \n",
       "\n",
       "      Bridges and Tunnels: % of Comparable Pre-Pandemic Day  \\\n",
       "1739                                               1.07       \n",
       "\n",
       "      Staten Island Railway: Total Estimated Ridership  \\\n",
       "1739                                              8265   \n",
       "\n",
       "      Staten Island Railway: % of Comparable Pre-Pandemic Day Day of Week  \\\n",
       "1739                                               0.53         Wednesday   \n",
       "\n",
       "         Month  Year  \n",
       "1739  December  2024  "
      ]
     },
     "execution_count": 43,
     "metadata": {},
     "output_type": "execute_result"
    }
   ],
   "source": [
    "df.loc[df['Access-A-Ride: Total Scheduled Trips'] == 41858, :]"
   ]
  },
  {
   "cell_type": "code",
   "execution_count": 44,
   "id": "f13c886c-e4a3-4a9b-bfa9-a79b6e5599ea",
   "metadata": {
    "tags": []
   },
   "outputs": [
    {
     "data": {
      "text/plain": [
       "1043802"
      ]
     },
     "execution_count": 44,
     "metadata": {},
     "output_type": "execute_result"
    }
   ],
   "source": [
    "df['Bridges and Tunnels: Total Traffic'].max()"
   ]
  },
  {
   "cell_type": "code",
   "execution_count": 45,
   "id": "6000ab03-fcf4-490a-ad35-004101357993",
   "metadata": {
    "tags": []
   },
   "outputs": [
    {
     "data": {
      "text/html": [
       "<div>\n",
       "<style scoped>\n",
       "    .dataframe tbody tr th:only-of-type {\n",
       "        vertical-align: middle;\n",
       "    }\n",
       "\n",
       "    .dataframe tbody tr th {\n",
       "        vertical-align: top;\n",
       "    }\n",
       "\n",
       "    .dataframe thead th {\n",
       "        text-align: right;\n",
       "    }\n",
       "</style>\n",
       "<table border=\"1\" class=\"dataframe\">\n",
       "  <thead>\n",
       "    <tr style=\"text-align: right;\">\n",
       "      <th></th>\n",
       "      <th>Date</th>\n",
       "      <th>Subways: Total Estimated Ridership</th>\n",
       "      <th>Subways: % of Comparable Pre-Pandemic Day</th>\n",
       "      <th>Buses: Total Estimated Ridership</th>\n",
       "      <th>Buses: % of Comparable Pre-Pandemic Day</th>\n",
       "      <th>LIRR: Total Estimated Ridership</th>\n",
       "      <th>LIRR: % of Comparable Pre-Pandemic Day</th>\n",
       "      <th>Metro-North: Total Estimated Ridership</th>\n",
       "      <th>Metro-North: % of Comparable Pre-Pandemic Day</th>\n",
       "      <th>Access-A-Ride: Total Scheduled Trips</th>\n",
       "      <th>Access-A-Ride: % of Comparable Pre-Pandemic Day</th>\n",
       "      <th>Bridges and Tunnels: Total Traffic</th>\n",
       "      <th>Bridges and Tunnels: % of Comparable Pre-Pandemic Day</th>\n",
       "      <th>Staten Island Railway: Total Estimated Ridership</th>\n",
       "      <th>Staten Island Railway: % of Comparable Pre-Pandemic Day</th>\n",
       "      <th>Day of Week</th>\n",
       "      <th>Month</th>\n",
       "      <th>Year</th>\n",
       "    </tr>\n",
       "  </thead>\n",
       "  <tbody>\n",
       "    <tr>\n",
       "      <th>1167</th>\n",
       "      <td>2023-05-12</td>\n",
       "      <td>3723192</td>\n",
       "      <td>0.65</td>\n",
       "      <td>1436385</td>\n",
       "      <td>0.63</td>\n",
       "      <td>201367</td>\n",
       "      <td>0.63</td>\n",
       "      <td>185027</td>\n",
       "      <td>0.65</td>\n",
       "      <td>29397</td>\n",
       "      <td>1.0</td>\n",
       "      <td>1043802</td>\n",
       "      <td>1.08</td>\n",
       "      <td>6629</td>\n",
       "      <td>0.38</td>\n",
       "      <td>Friday</td>\n",
       "      <td>May</td>\n",
       "      <td>2023</td>\n",
       "    </tr>\n",
       "  </tbody>\n",
       "</table>\n",
       "</div>"
      ],
      "text/plain": [
       "           Date  Subways: Total Estimated Ridership  \\\n",
       "1167 2023-05-12                             3723192   \n",
       "\n",
       "      Subways: % of Comparable Pre-Pandemic Day  \\\n",
       "1167                                       0.65   \n",
       "\n",
       "      Buses: Total Estimated Ridership  \\\n",
       "1167                           1436385   \n",
       "\n",
       "      Buses: % of Comparable Pre-Pandemic Day  \\\n",
       "1167                                     0.63   \n",
       "\n",
       "      LIRR: Total Estimated Ridership  LIRR: % of Comparable Pre-Pandemic Day  \\\n",
       "1167                           201367                                    0.63   \n",
       "\n",
       "      Metro-North: Total Estimated Ridership  \\\n",
       "1167                                  185027   \n",
       "\n",
       "      Metro-North: % of Comparable Pre-Pandemic Day  \\\n",
       "1167                                           0.65   \n",
       "\n",
       "      Access-A-Ride: Total Scheduled Trips  \\\n",
       "1167                                 29397   \n",
       "\n",
       "      Access-A-Ride: % of Comparable Pre-Pandemic Day  \\\n",
       "1167                                              1.0   \n",
       "\n",
       "      Bridges and Tunnels: Total Traffic  \\\n",
       "1167                             1043802   \n",
       "\n",
       "      Bridges and Tunnels: % of Comparable Pre-Pandemic Day  \\\n",
       "1167                                               1.08       \n",
       "\n",
       "      Staten Island Railway: Total Estimated Ridership  \\\n",
       "1167                                              6629   \n",
       "\n",
       "      Staten Island Railway: % of Comparable Pre-Pandemic Day Day of Week  \\\n",
       "1167                                               0.38            Friday   \n",
       "\n",
       "     Month  Year  \n",
       "1167   May  2023  "
      ]
     },
     "execution_count": 45,
     "metadata": {},
     "output_type": "execute_result"
    }
   ],
   "source": [
    "df.loc[df['Bridges and Tunnels: Total Traffic'] == 1043802, :]"
   ]
  },
  {
   "cell_type": "code",
   "execution_count": 46,
   "id": "adf2a0f8-e7d1-43d7-aae0-df7ee956c7f0",
   "metadata": {
    "tags": []
   },
   "outputs": [
    {
     "data": {
      "text/plain": [
       "17453"
      ]
     },
     "execution_count": 46,
     "metadata": {},
     "output_type": "execute_result"
    }
   ],
   "source": [
    "df['Staten Island Railway: Total Estimated Ridership'].max()"
   ]
  },
  {
   "cell_type": "code",
   "execution_count": 47,
   "id": "69234aa6-19c4-46f0-a480-7e4ff0d73e93",
   "metadata": {
    "tags": []
   },
   "outputs": [
    {
     "data": {
      "text/html": [
       "<div>\n",
       "<style scoped>\n",
       "    .dataframe tbody tr th:only-of-type {\n",
       "        vertical-align: middle;\n",
       "    }\n",
       "\n",
       "    .dataframe tbody tr th {\n",
       "        vertical-align: top;\n",
       "    }\n",
       "\n",
       "    .dataframe thead th {\n",
       "        text-align: right;\n",
       "    }\n",
       "</style>\n",
       "<table border=\"1\" class=\"dataframe\">\n",
       "  <thead>\n",
       "    <tr style=\"text-align: right;\">\n",
       "      <th></th>\n",
       "      <th>Date</th>\n",
       "      <th>Subways: Total Estimated Ridership</th>\n",
       "      <th>Subways: % of Comparable Pre-Pandemic Day</th>\n",
       "      <th>Buses: Total Estimated Ridership</th>\n",
       "      <th>Buses: % of Comparable Pre-Pandemic Day</th>\n",
       "      <th>LIRR: Total Estimated Ridership</th>\n",
       "      <th>LIRR: % of Comparable Pre-Pandemic Day</th>\n",
       "      <th>Metro-North: Total Estimated Ridership</th>\n",
       "      <th>Metro-North: % of Comparable Pre-Pandemic Day</th>\n",
       "      <th>Access-A-Ride: Total Scheduled Trips</th>\n",
       "      <th>Access-A-Ride: % of Comparable Pre-Pandemic Day</th>\n",
       "      <th>Bridges and Tunnels: Total Traffic</th>\n",
       "      <th>Bridges and Tunnels: % of Comparable Pre-Pandemic Day</th>\n",
       "      <th>Staten Island Railway: Total Estimated Ridership</th>\n",
       "      <th>Staten Island Railway: % of Comparable Pre-Pandemic Day</th>\n",
       "      <th>Day of Week</th>\n",
       "      <th>Month</th>\n",
       "      <th>Year</th>\n",
       "    </tr>\n",
       "  </thead>\n",
       "  <tbody>\n",
       "    <tr>\n",
       "      <th>2</th>\n",
       "      <td>2020-03-03</td>\n",
       "      <td>5481103</td>\n",
       "      <td>0.98</td>\n",
       "      <td>2228608</td>\n",
       "      <td>0.99</td>\n",
       "      <td>319727</td>\n",
       "      <td>1.02</td>\n",
       "      <td>190648</td>\n",
       "      <td>0.69</td>\n",
       "      <td>32767</td>\n",
       "      <td>1.1</td>\n",
       "      <td>882175</td>\n",
       "      <td>0.96</td>\n",
       "      <td>17453</td>\n",
       "      <td>1.09</td>\n",
       "      <td>Tuesday</td>\n",
       "      <td>March</td>\n",
       "      <td>2020</td>\n",
       "    </tr>\n",
       "  </tbody>\n",
       "</table>\n",
       "</div>"
      ],
      "text/plain": [
       "        Date  Subways: Total Estimated Ridership  \\\n",
       "2 2020-03-03                             5481103   \n",
       "\n",
       "   Subways: % of Comparable Pre-Pandemic Day  \\\n",
       "2                                       0.98   \n",
       "\n",
       "   Buses: Total Estimated Ridership  Buses: % of Comparable Pre-Pandemic Day  \\\n",
       "2                           2228608                                     0.99   \n",
       "\n",
       "   LIRR: Total Estimated Ridership  LIRR: % of Comparable Pre-Pandemic Day  \\\n",
       "2                           319727                                    1.02   \n",
       "\n",
       "   Metro-North: Total Estimated Ridership  \\\n",
       "2                                  190648   \n",
       "\n",
       "   Metro-North: % of Comparable Pre-Pandemic Day  \\\n",
       "2                                           0.69   \n",
       "\n",
       "   Access-A-Ride: Total Scheduled Trips  \\\n",
       "2                                 32767   \n",
       "\n",
       "   Access-A-Ride: % of Comparable Pre-Pandemic Day  \\\n",
       "2                                              1.1   \n",
       "\n",
       "   Bridges and Tunnels: Total Traffic  \\\n",
       "2                              882175   \n",
       "\n",
       "   Bridges and Tunnels: % of Comparable Pre-Pandemic Day  \\\n",
       "2                                               0.96       \n",
       "\n",
       "   Staten Island Railway: Total Estimated Ridership  \\\n",
       "2                                             17453   \n",
       "\n",
       "   Staten Island Railway: % of Comparable Pre-Pandemic Day Day of Week  Month  \\\n",
       "2                                               1.09           Tuesday  March   \n",
       "\n",
       "   Year  \n",
       "2  2020  "
      ]
     },
     "execution_count": 47,
     "metadata": {},
     "output_type": "execute_result"
    }
   ],
   "source": [
    "df.loc[df['Staten Island Railway: Total Estimated Ridership'] == 17453, :]"
   ]
  },
  {
   "cell_type": "code",
   "execution_count": 48,
   "id": "9ecba624-a55f-42dd-8c5e-1bcc0c54e340",
   "metadata": {
    "tags": []
   },
   "outputs": [],
   "source": [
    "# Let's look at the average ridership for each mode of transportation."
   ]
  },
  {
   "cell_type": "code",
   "execution_count": 49,
   "id": "77f193b3-7c79-4de4-bd36-8eebff09b290",
   "metadata": {
    "tags": []
   },
   "outputs": [
    {
     "data": {
      "text/plain": [
       "2541830.2646396398"
      ]
     },
     "execution_count": 49,
     "metadata": {},
     "output_type": "execute_result"
    }
   ],
   "source": [
    " df['Subways: Total Estimated Ridership'].mean()"
   ]
  },
  {
   "cell_type": "code",
   "execution_count": 50,
   "id": "88a7c8e8-485e-48d7-895b-02260783db01",
   "metadata": {
    "tags": []
   },
   "outputs": [
    {
     "data": {
      "text/plain": [
       "1011409.1813063063"
      ]
     },
     "execution_count": 50,
     "metadata": {},
     "output_type": "execute_result"
    }
   ],
   "source": [
    " df['Buses: Total Estimated Ridership'].mean()"
   ]
  },
  {
   "cell_type": "code",
   "execution_count": 51,
   "id": "f863b24b-1c23-43b2-9d3c-01026801ec12",
   "metadata": {
    "tags": []
   },
   "outputs": [
    {
     "data": {
      "text/plain": [
       "138783.6689189189"
      ]
     },
     "execution_count": 51,
     "metadata": {},
     "output_type": "execute_result"
    }
   ],
   "source": [
    "df['LIRR: Total Estimated Ridership'].mean()"
   ]
  },
  {
   "cell_type": "code",
   "execution_count": 52,
   "id": "9056919f-f50e-4f18-a86e-968c07760f32",
   "metadata": {
    "tags": []
   },
   "outputs": [
    {
     "data": {
      "text/plain": [
       "117522.40033783784"
      ]
     },
     "execution_count": 52,
     "metadata": {},
     "output_type": "execute_result"
    }
   ],
   "source": [
    "df['Metro-North: Total Estimated Ridership'].mean()"
   ]
  },
  {
   "cell_type": "code",
   "execution_count": 53,
   "id": "c7dd6cb1-0ab2-46e4-b07f-8342f3c45777",
   "metadata": {
    "tags": []
   },
   "outputs": [
    {
     "data": {
      "text/plain": [
       "22349.481981981982"
      ]
     },
     "execution_count": 53,
     "metadata": {},
     "output_type": "execute_result"
    }
   ],
   "source": [
    "df['Access-A-Ride: Total Scheduled Trips'].mean()"
   ]
  },
  {
   "cell_type": "code",
   "execution_count": 54,
   "id": "95fadb19-2eba-4470-9b24-c7c2dd9b39bc",
   "metadata": {
    "tags": []
   },
   "outputs": [
    {
     "data": {
      "text/plain": [
       "857259.6176801802"
      ]
     },
     "execution_count": 54,
     "metadata": {},
     "output_type": "execute_result"
    }
   ],
   "source": [
    "df['Bridges and Tunnels: Total Traffic'].mean()"
   ]
  },
  {
   "cell_type": "code",
   "execution_count": 55,
   "id": "a818975f-09d5-465a-b8f7-e7e5c114fc8c",
   "metadata": {
    "tags": []
   },
   "outputs": [
    {
     "data": {
      "text/plain": [
       "4491.9628378378375"
      ]
     },
     "execution_count": 55,
     "metadata": {},
     "output_type": "execute_result"
    }
   ],
   "source": [
    "df['Staten Island Railway: Total Estimated Ridership'].mean()"
   ]
  },
  {
   "cell_type": "code",
   "execution_count": 56,
   "id": "c6a14bd8-0447-45d9-becd-8f384ddda9c5",
   "metadata": {
    "tags": []
   },
   "outputs": [
    {
     "data": {
      "text/plain": [
       "Date\n",
       "2020-03-01    2212965.0\n",
       "2020-03-02    5329915.0\n",
       "2020-03-03    5481103.0\n",
       "2020-03-04    5498809.0\n",
       "2020-03-05    5496453.0\n",
       "                ...    \n",
       "2025-01-05    1791020.0\n",
       "2025-01-06    3436491.0\n",
       "2025-01-07    3781536.0\n",
       "2025-01-08    3830616.0\n",
       "2025-01-09    3734383.0\n",
       "Name: Subways: Total Estimated Ridership, Length: 1776, dtype: float64"
      ]
     },
     "execution_count": 56,
     "metadata": {},
     "output_type": "execute_result"
    }
   ],
   "source": [
    "df.groupby('Date')['Subways: Total Estimated Ridership'].mean()"
   ]
  },
  {
   "cell_type": "markdown",
   "id": "ff6d655e-909a-462d-875b-fa654cab06b2",
   "metadata": {},
   "source": [
    "> We see a significant drop in Subway total ridership from 2020 to 2025. March 2nd(Monday) 2020 total ridership is 5329915 and January 6th(Monday) 2025 total ridership is 3436491. This could be due to a number of reasons one being the most obvious is COVID. Many people probably prefer to be in the comfort of their own vehicles instead of being on public transportation having to deal with germs and uncleanliness as well as the uptick in violence on the subways. I think it is also importanat to note the two lowest numbers from 2020 and 2025 are sundays which would explain the dip in ridership. Many people are off from work and are not taking the subway. "
   ]
  },
  {
   "cell_type": "code",
   "execution_count": 57,
   "id": "6d905524-56d6-4e54-b3be-bc25e63b8a42",
   "metadata": {
    "tags": []
   },
   "outputs": [],
   "source": [
    "first_ten = df.head(10)"
   ]
  },
  {
   "cell_type": "code",
   "execution_count": 58,
   "id": "aa7b29ba-38f6-40de-8f52-ffa9e7ef5e2d",
   "metadata": {
    "tags": []
   },
   "outputs": [
    {
     "data": {
      "text/plain": [
       "Date\n",
       "2020-03-01    2212965.0\n",
       "2020-03-02    5329915.0\n",
       "2020-03-03    5481103.0\n",
       "2020-03-04    5498809.0\n",
       "2020-03-05    5496453.0\n",
       "2020-03-06    5189447.0\n",
       "2020-03-07    2814637.0\n",
       "2020-03-08    2120656.0\n",
       "2020-03-09    4973513.0\n",
       "2020-03-10    4867818.0\n",
       "Name: Subways: Total Estimated Ridership, dtype: float64"
      ]
     },
     "execution_count": 58,
     "metadata": {},
     "output_type": "execute_result"
    }
   ],
   "source": [
    "first_ten.groupby('Date')['Subways: Total Estimated Ridership'].mean()"
   ]
  },
  {
   "cell_type": "code",
   "execution_count": 59,
   "id": "53281e18-438a-48fb-a569-c5f96f80c33a",
   "metadata": {
    "tags": []
   },
   "outputs": [
    {
     "data": {
      "image/png": "[encoded data removed]",
      "text/plain": [
       "<Figure size 640x480 with 1 Axes>"
      ]
     },
     "metadata": {},
     "output_type": "display_data"
    }
   ],
   "source": [
    "sns.barplot(data = first_ten,\n",
    "            x = 'Subways: Total Estimated Ridership',\n",
    "            y = 'Date',\n",
    "           hue = 'Day of Week');"
   ]
  },
  {
   "cell_type": "markdown",
   "id": "0219c054-d435-40bb-ab7c-7eeb10395d0a",
   "metadata": {},
   "source": [
    "> Week days have higher ridership compared to the weekends. We see there is a slight dip in ridership on Fridays. This could be due to remote work or even the four day work week. "
   ]
  },
  {
   "cell_type": "code",
   "execution_count": 60,
   "id": "86ead53b-fd35-4747-8140-7770a9fd1954",
   "metadata": {
    "tags": []
   },
   "outputs": [],
   "source": [
    "last_ten = df.tail(10)"
   ]
  },
  {
   "cell_type": "code",
   "execution_count": 61,
   "id": "22133562-949a-4986-a3d5-93206bff52d7",
   "metadata": {
    "tags": []
   },
   "outputs": [
    {
     "data": {
      "text/plain": [
       "Date\n",
       "2024-12-31    2874096.0\n",
       "2025-01-01    1779352.0\n",
       "2025-01-02    3376924.0\n",
       "2025-01-03    3413021.0\n",
       "2025-01-04    2315493.0\n",
       "2025-01-05    1791020.0\n",
       "2025-01-06    3436491.0\n",
       "2025-01-07    3781536.0\n",
       "2025-01-08    3830616.0\n",
       "2025-01-09    3734383.0\n",
       "Name: Subways: Total Estimated Ridership, dtype: float64"
      ]
     },
     "execution_count": 61,
     "metadata": {},
     "output_type": "execute_result"
    }
   ],
   "source": [
    "last_ten.groupby('Date')['Subways: Total Estimated Ridership'].mean()"
   ]
  },
  {
   "cell_type": "code",
   "execution_count": 62,
   "id": "5dc0cd0f-0b09-4d55-8268-c67fedcb72db",
   "metadata": {
    "tags": []
   },
   "outputs": [
    {
     "data": {
      "image/png": "[encoded data removed]",
      "text/plain": [
       "<Figure size 640x480 with 1 Axes>"
      ]
     },
     "metadata": {},
     "output_type": "display_data"
    }
   ],
   "source": [
    "sns.barplot(data = last_ten,\n",
    "            x = 'Subways: Total Estimated Ridership',\n",
    "            y = 'Date',\n",
    "           hue = 'Day of Week');"
   ]
  },
  {
   "cell_type": "code",
   "execution_count": 71,
   "id": "3da0e74d-e7c8-4f1d-a334-b187468ec1ee",
   "metadata": {
    "tags": []
   },
   "outputs": [
    {
     "data": {
      "text/plain": [
       "Date\n",
       "2020-03-01     984908.0\n",
       "2020-03-02    2209066.0\n",
       "2020-03-03    2228608.0\n",
       "2020-03-04    2177165.0\n",
       "2020-03-05    2244515.0\n",
       "                ...    \n",
       "2025-01-05     618750.0\n",
       "2025-01-06    1238969.0\n",
       "2025-01-07    1275936.0\n",
       "2025-01-08    1256260.0\n",
       "2025-01-09     787710.0\n",
       "Name: Buses: Total Estimated Ridership, Length: 1776, dtype: float64"
      ]
     },
     "execution_count": 71,
     "metadata": {},
     "output_type": "execute_result"
    }
   ],
   "source": [
    "df.groupby('Date')['Buses: Total Estimated Ridership'].mean()"
   ]
  },
  {
   "cell_type": "markdown",
   "id": "43f4a824-0ded-4057-adae-b99cb1b36efe",
   "metadata": {},
   "source": [
    "> We can see a drop in Bus total ridership from 2020 to 2025 with there being 2209066 riders on 3/1/2020 (Monday) compared to 1238969 on 1/6/2025 (Monday). This can be due to the pandemic. "
   ]
  },
  {
   "cell_type": "code",
   "execution_count": 63,
   "id": "1d9edbb7-c2bb-47a7-897a-de34e6bd10a5",
   "metadata": {
    "tags": []
   },
   "outputs": [
    {
     "data": {
      "text/plain": [
       "Date\n",
       "2020-03-01     984908.0\n",
       "2020-03-02    2209066.0\n",
       "2020-03-03    2228608.0\n",
       "2020-03-04    2177165.0\n",
       "2020-03-05    2244515.0\n",
       "2020-03-06    2066743.0\n",
       "2020-03-07    1249085.0\n",
       "2020-03-08     957163.0\n",
       "2020-03-09    2124770.0\n",
       "2020-03-10    2111989.0\n",
       "Name: Buses: Total Estimated Ridership, dtype: float64"
      ]
     },
     "execution_count": 63,
     "metadata": {},
     "output_type": "execute_result"
    }
   ],
   "source": [
    "first_ten.groupby('Date')['Buses: Total Estimated Ridership'].mean()"
   ]
  },
  {
   "cell_type": "code",
   "execution_count": 70,
   "id": "7f963e8b-40aa-4632-874d-f92e4d73b20a",
   "metadata": {
    "tags": []
   },
   "outputs": [
    {
     "data": {
      "image/png": "[encoded data removed]",
      "text/plain": [
       "<Figure size 640x480 with 1 Axes>"
      ]
     },
     "metadata": {},
     "output_type": "display_data"
    }
   ],
   "source": [
    "sns.barplot(data = first_ten,\n",
    "            x = 'Buses: Total Estimated Ridership',\n",
    "            y = 'Date',\n",
    "            hue = 'Day of Week');"
   ]
  },
  {
   "cell_type": "code",
   "execution_count": 72,
   "id": "78b19995-fcf7-425a-9fd0-8aaab4c9b7ed",
   "metadata": {
    "tags": []
   },
   "outputs": [
    {
     "data": {
      "text/plain": [
       "Date\n",
       "2024-12-31     984193.0\n",
       "2025-01-01     495795.0\n",
       "2025-01-02    1204698.0\n",
       "2025-01-03    1225317.0\n",
       "2025-01-04     774643.0\n",
       "2025-01-05     618750.0\n",
       "2025-01-06    1238969.0\n",
       "2025-01-07    1275936.0\n",
       "2025-01-08    1256260.0\n",
       "2025-01-09     787710.0\n",
       "Name: Buses: Total Estimated Ridership, dtype: float64"
      ]
     },
     "execution_count": 72,
     "metadata": {},
     "output_type": "execute_result"
    }
   ],
   "source": [
    "last_ten.groupby('Date')['Buses: Total Estimated Ridership'].mean()"
   ]
  },
  {
   "cell_type": "code",
   "execution_count": 73,
   "id": "706609ba-7590-4a3e-b660-318ef021e30c",
   "metadata": {
    "tags": []
   },
   "outputs": [
    {
     "data": {
      "image/png": "[encoded data removed]",
      "text/plain": [
       "<Figure size 640x480 with 1 Axes>"
      ]
     },
     "metadata": {},
     "output_type": "display_data"
    }
   ],
   "source": [
    "sns.barplot(data = last_ten,\n",
    "            x = 'Buses: Total Estimated Ridership',\n",
    "            y = 'Date',\n",
    "            hue = 'Day of Week');"
   ]
  },
  {
   "cell_type": "markdown",
   "id": "d9cf2eea-d8b0-4b68-9426-4f9b4aed162a",
   "metadata": {},
   "source": [
    "> I think it is important to note on the first of 2025 the estimated total ridership for the last couple modes of transportation have been the lowest ridership. We can assume this is because it is New Years Day and so less people are out taking public transportation. I will continue to look at this with ohter forms of tranportatin through out the EDA process. "
   ]
  },
  {
   "cell_type": "code",
   "execution_count": 74,
   "id": "33dd89d3-059f-44c0-a5da-3550fb275580",
   "metadata": {
    "tags": []
   },
   "outputs": [
    {
     "data": {
      "text/plain": [
       "Date\n",
       "2020-03-01     86790.0\n",
       "2020-03-02    321569.0\n",
       "2020-03-03    319727.0\n",
       "2020-03-04    311662.0\n",
       "2020-03-05    307597.0\n",
       "                ...   \n",
       "2025-01-05     96683.0\n",
       "2025-01-06    229503.0\n",
       "2025-01-07    245930.0\n",
       "2025-01-08    239444.0\n",
       "2025-01-09    229804.0\n",
       "Name: LIRR: Total Estimated Ridership, Length: 1776, dtype: float64"
      ]
     },
     "execution_count": 74,
     "metadata": {},
     "output_type": "execute_result"
    }
   ],
   "source": [
    "df.groupby('Date')['LIRR: Total Estimated Ridership'].mean()"
   ]
  },
  {
   "cell_type": "code",
   "execution_count": 80,
   "id": "4d249d28-965f-499a-a5cc-483de80a4b90",
   "metadata": {
    "tags": []
   },
   "outputs": [
    {
     "data": {
      "text/plain": [
       "Date\n",
       "2020-03-01     86790.0\n",
       "2020-03-02    321569.0\n",
       "2020-03-03    319727.0\n",
       "2020-03-04    311662.0\n",
       "2020-03-05    307597.0\n",
       "2020-03-06    289171.0\n",
       "2020-03-07    106058.0\n",
       "2020-03-08     81565.0\n",
       "2020-03-09    277001.0\n",
       "2020-03-10    259324.0\n",
       "Name: LIRR: Total Estimated Ridership, dtype: float64"
      ]
     },
     "execution_count": 80,
     "metadata": {},
     "output_type": "execute_result"
    }
   ],
   "source": [
    "first_ten.groupby('Date')['LIRR: Total Estimated Ridership'].mean()"
   ]
  },
  {
   "cell_type": "code",
   "execution_count": 77,
   "id": "bed13e37-c6f5-4e1a-bc94-c936380e3ecb",
   "metadata": {
    "tags": []
   },
   "outputs": [
    {
     "data": {
      "image/png": "[encoded data removed]",
      "text/plain": [
       "<Figure size 640x480 with 1 Axes>"
      ]
     },
     "metadata": {},
     "output_type": "display_data"
    }
   ],
   "source": [
    "sns.barplot(data = first_ten,\n",
    "            y = 'Date',\n",
    "            x = 'LIRR: Total Estimated Ridership',\n",
    "            hue = 'Day of Week');"
   ]
  },
  {
   "cell_type": "code",
   "execution_count": 78,
   "id": "6f926000-becb-4c86-9688-b81c55bb1de3",
   "metadata": {
    "tags": []
   },
   "outputs": [
    {
     "data": {
      "text/plain": [
       "Date\n",
       "2024-12-31    223942.0\n",
       "2025-01-01     90318.0\n",
       "2025-01-02    210914.0\n",
       "2025-01-03    203652.0\n",
       "2025-01-04    117004.0\n",
       "2025-01-05     96683.0\n",
       "2025-01-06    229503.0\n",
       "2025-01-07    245930.0\n",
       "2025-01-08    239444.0\n",
       "2025-01-09    229804.0\n",
       "Name: LIRR: Total Estimated Ridership, dtype: float64"
      ]
     },
     "execution_count": 78,
     "metadata": {},
     "output_type": "execute_result"
    }
   ],
   "source": [
    "last_ten.groupby('Date')['LIRR: Total Estimated Ridership'].mean()"
   ]
  },
  {
   "cell_type": "code",
   "execution_count": 81,
   "id": "fcd0edc8-0a9d-4b8e-950b-a151be093a1d",
   "metadata": {
    "tags": []
   },
   "outputs": [
    {
     "data": {
      "image/png": "[encoded data removed]",
      "text/plain": [
       "<Figure size 640x480 with 1 Axes>"
      ]
     },
     "metadata": {},
     "output_type": "display_data"
    }
   ],
   "source": [
    "sns.barplot(data = last_ten,\n",
    "            x = 'LIRR: Total Estimated Ridership',\n",
    "            y = 'Date',\n",
    "            hue = 'Day of Week');"
   ]
  },
  {
   "cell_type": "code",
   "execution_count": 82,
   "id": "de3ced98-67db-4e09-8fa6-e4e94dd71036",
   "metadata": {
    "tags": []
   },
   "outputs": [
    {
     "data": {
      "text/plain": [
       "Date\n",
       "2020-03-01     55825.0\n",
       "2020-03-02    180701.0\n",
       "2020-03-03    190648.0\n",
       "2020-03-04    192689.0\n",
       "2020-03-05    194386.0\n",
       "                ...   \n",
       "2025-01-05     79761.0\n",
       "2025-01-06    202575.0\n",
       "2025-01-07    220945.0\n",
       "2025-01-08    209550.0\n",
       "2025-01-09    198894.0\n",
       "Name: Metro-North: Total Estimated Ridership, Length: 1776, dtype: float64"
      ]
     },
     "execution_count": 82,
     "metadata": {},
     "output_type": "execute_result"
    }
   ],
   "source": [
    "df.groupby('Date')['Metro-North: Total Estimated Ridership'].mean()"
   ]
  },
  {
   "cell_type": "markdown",
   "id": "af2252ab-6bce-44ba-ae6b-51a410d1bb26",
   "metadata": {
    "tags": []
   },
   "source": [
    "> We see here there was the opposite affect on Metro-North compared to Buses, Subways and LIRR. The total estimated rideship for Metro-North went up from 2020 to 2025. 3/2/2020 (Monday) the estimated ridership was 180701 compared to 1/6/2025 (Monday) the estimated ridership was 202575. I think this could also be due to the pandemic. Many people moved out of New York City to Upstate, Conneticuit and New Jersey for an opportunity to buy homes with more space. Metro North service runs From Jersey through parts of Manhattan and continues to Upstate and Conneticuit. Some may also say this is due to congestion pricing. instead of paying extra tolls to drive riders are opting to take Metro-North."
   ]
  },
  {
   "cell_type": "code",
   "execution_count": 84,
   "id": "0993f2b3-f268-4a7b-85ce-f689d8cab6de",
   "metadata": {
    "tags": []
   },
   "outputs": [
    {
     "data": {
      "text/plain": [
       "Date\n",
       "2020-03-01     55825.0\n",
       "2020-03-02    180701.0\n",
       "2020-03-03    190648.0\n",
       "2020-03-04    192689.0\n",
       "2020-03-05    194386.0\n",
       "2020-03-06    205056.0\n",
       "2020-03-07     75838.0\n",
       "2020-03-08     60800.0\n",
       "2020-03-09    183953.0\n",
       "2020-03-10    179050.0\n",
       "Name: Metro-North: Total Estimated Ridership, dtype: float64"
      ]
     },
     "execution_count": 84,
     "metadata": {},
     "output_type": "execute_result"
    }
   ],
   "source": [
    "first_ten.groupby('Date')['Metro-North: Total Estimated Ridership'].mean()"
   ]
  },
  {
   "cell_type": "code",
   "execution_count": 85,
   "id": "a69a70f3-73e1-4041-a36c-2391efce989c",
   "metadata": {
    "tags": []
   },
   "outputs": [
    {
     "data": {
      "image/png": "[encoded data removed]",
      "text/plain": [
       "<Figure size 640x480 with 1 Axes>"
      ]
     },
     "metadata": {},
     "output_type": "display_data"
    }
   ],
   "source": [
    "sns.barplot(data = first_ten,\n",
    "            x = 'Metro-North: Total Estimated Ridership',\n",
    "            y = 'Date',\n",
    "            hue = 'Day of Week');"
   ]
  },
  {
   "cell_type": "code",
   "execution_count": 86,
   "id": "537d8977-689e-483e-a57d-f04f152889a1",
   "metadata": {
    "tags": []
   },
   "outputs": [
    {
     "data": {
      "text/plain": [
       "Date\n",
       "2024-12-31    186037.0\n",
       "2025-01-01     74690.0\n",
       "2025-01-02    165475.0\n",
       "2025-01-03    163577.0\n",
       "2025-01-04    100579.0\n",
       "2025-01-05     79761.0\n",
       "2025-01-06    202575.0\n",
       "2025-01-07    220945.0\n",
       "2025-01-08    209550.0\n",
       "2025-01-09    198894.0\n",
       "Name: Metro-North: Total Estimated Ridership, dtype: float64"
      ]
     },
     "execution_count": 86,
     "metadata": {},
     "output_type": "execute_result"
    }
   ],
   "source": [
    "last_ten.groupby('Date')['Metro-North: Total Estimated Ridership'].mean()"
   ]
  },
  {
   "cell_type": "code",
   "execution_count": null,
   "id": "9154cf05-7b59-4a1e-992e-2604993070df",
   "metadata": {},
   "outputs": [],
   "source": [
    "sns.barplot(data = last_ten,\n",
    "            x = 'Metro-North: Total Estimated Ridership',\n",
    "            y = 'Date',\n",
    "            hue = 'Day of Week"
   ]
  }
 ],
 "metadata": {
  "kernelspec": {
   "display_name": "Python 3 (ipykernel)",
   "language": "python",
   "name": "python3"
  },
  "language_info": {
   "codemirror_mode": {
    "name": "ipython",
    "version": 3
   },
   "file_extension": ".py",
   "mimetype": "text/x-python",
   "name": "python",
   "nbconvert_exporter": "python",
   "pygments_lexer": "ipython3",
   "version": "3.11.5"
  }
 },
 "nbformat": 4,
 "nbformat_minor": 5
}
